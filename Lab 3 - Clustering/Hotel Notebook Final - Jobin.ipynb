{
 "cells": [
  {
   "cell_type": "markdown",
   "id": "50e42ca3",
   "metadata": {},
   "source": [
    "# Lab 3 - Clustering\n",
    "\n",
    "### By: Satvik Ajmera, Dylan Scott, Nnenna Okpara and Jobin Joseph"
   ]
  },
  {
   "cell_type": "markdown",
   "id": "561234f2",
   "metadata": {},
   "source": [
    "### Hotel Booking Demand Dataset\n",
    "- Data Source: https://www.kaggle.com/jessemostipak/hotel-booking-demand\n",
    "- Data Description Source: https://www.sciencedirect.com/science/article/pii/S2352340918315191"
   ]
  },
  {
   "cell_type": "markdown",
   "id": "9451c029",
   "metadata": {},
   "source": [
    "Category |Available |Requirements\n",
    "-----|-----|----- \n",
    "Total Points | 100 | \n",
    "Business Understanding 1 |10|Describe the purpose of the data set you selected (i.e., why was this data collected in the first place?). How will you measure the effectiveness of a good algorithm? Why does your chosen validation method make sense for this specific dataset and the stakeholders needs?\n",
    "Data Understanding 1 | 10 |Describe the meaning and type of data (scale, values, etc.) for each attribute in the data file. Verify data quality: Are there missing values? Duplicate data? Outliers? Are those mistakes? How do you deal with these problems?\n",
    "Data Understanding 2|10|Visualize the any important attributes appropriately. Important: Provide an interpretation for any charts or graphs.\n",
    "Modeling and Evaluation 1|10|Train and adjust parameters\n",
    "Modeling and Evaluation 2|10|Evaluate and Compare\n",
    "Modeling and Evaluation 3|10|Visualize Results\n",
    "Modeling and Evaluation 4|20|Summarize the Ramifications\n",
    "Deployment|10|Be critical of your performance and tell the reader how you current model might be usable by other parties. Did you achieve your goals? If not, can you reign in the utility of your modeling? How useful is your model for interested parties (i.e., the companies or organizations that might want to use it)? How would your deploy your model for interested parties? What other data should be collected? How often would the model need to be updated, etc.?\n",
    "Exceptional Work|10|You have free reign to provide additional analyses or combine analyses."
   ]
  },
  {
   "cell_type": "markdown",
   "id": "5f556d50",
   "metadata": {},
   "source": [
    "# Business Understanding 1"
   ]
  },
  {
   "cell_type": "markdown",
   "id": "c3ec127d",
   "metadata": {},
   "source": [
    "Describe the purpose of the data set you selected (i.e., why was this data collected in the first place?). How will you measure the effectiveness of a good algorithm? Why does your chosen validation method make sense for this specific\n",
    "dataset and the stakeholders needs?"
   ]
  },
  {
   "cell_type": "markdown",
   "id": "1e7280d2",
   "metadata": {},
   "source": [
    "##### Describe the purpose of the data set you selected (i.e., why was this data collected in the first place?). \n",
    "\n",
    "The reason why we choose this data set is that it can be helpful in making insights in the nature of hotel bookings, and realize what  other factors that can influence whether rooms are booked, canceled or left empty. This data set comes from an article “Hotel booking demand datasets” Nuno Antonio, Anade Almeida and Luis Nunes that has been cleaned by Thomas Mock and Antoine Bichat for #TidyTuesday. Models that are created can assist consumers to know what factor to look for when booking a hotel. Other models that are created can be also be used by employers and employees that work in the hospitality business. \n",
    "\n",
    "#####  How will you measure the effectiveness of a good algorithm?\n",
    "\n",
    "Using different combinations of clustering with a logistic regression of the dataset we will create models. We will measure the effectiveness of a good algorithm by seeing whether there if the accuracy of the prediction goes up. We will also look at the standard deviations to see if the model is consistent on its level of accuracy. \n",
    "\n",
    "#####  Why does your chosen validation method make sense for this specific dataset and the stakeholders needs?\n",
    "\n",
    "Using  accuracy makes sense for this specific data  set because it can show how good the model will be at predicting if the hotel booking will be cancelled. The  main stake holders, which are the hotel corporations, will be better able to predict if any rooms will be available for a weekend. Once knowing this the hotel corporations,  be able to overbook or adjust room rates accordingly in order to have minimize loss to revenue. \n"
   ]
  },
  {
   "cell_type": "code",
   "execution_count": 1,
   "id": "aca9a1f6",
   "metadata": {},
   "outputs": [],
   "source": [
    "import pandas as pd\n",
    "import numpy as np\n",
    "import matplotlib.pyplot as plt\n",
    "import seaborn as sns\n",
    "sns.set(style='darkgrid')\n",
    "\n",
    "from sklearn.preprocessing import OneHotEncoder, StandardScaler\n",
    "from sklearn.pipeline import Pipeline\n",
    "from sklearn.compose import ColumnTransformer"
   ]
  },
  {
   "cell_type": "markdown",
   "id": "c1e6dbf4",
   "metadata": {},
   "source": [
    "# Data Understanding 1"
   ]
  },
  {
   "cell_type": "markdown",
   "id": "48ad8e15",
   "metadata": {},
   "source": [
    "Describe the meaning and type of data (scale, values, etc.) for each attribute in the data file. Verify data quality: Are there missing values? Duplicate data? Outliers? Are those mistakes? How do you deal with these problems?"
   ]
  },
  {
   "cell_type": "code",
   "execution_count": 2,
   "id": "30c49f0f",
   "metadata": {},
   "outputs": [
    {
     "name": "stdout",
     "output_type": "stream",
     "text": [
      "<class 'pandas.core.frame.DataFrame'>\n",
      "RangeIndex: 119390 entries, 0 to 119389\n",
      "Data columns (total 32 columns):\n",
      " #   Column                          Non-Null Count   Dtype  \n",
      "---  ------                          --------------   -----  \n",
      " 0   hotel                           119390 non-null  object \n",
      " 1   is_canceled                     119390 non-null  int64  \n",
      " 2   lead_time                       119390 non-null  int64  \n",
      " 3   arrival_date_year               119390 non-null  int64  \n",
      " 4   arrival_date_month              119390 non-null  object \n",
      " 5   arrival_date_week_number        119390 non-null  int64  \n",
      " 6   arrival_date_day_of_month       119390 non-null  int64  \n",
      " 7   stays_in_weekend_nights         119390 non-null  int64  \n",
      " 8   stays_in_week_nights            119390 non-null  int64  \n",
      " 9   adults                          119390 non-null  int64  \n",
      " 10  children                        119386 non-null  float64\n",
      " 11  babies                          119390 non-null  int64  \n",
      " 12  meal                            119390 non-null  object \n",
      " 13  country                         118902 non-null  object \n",
      " 14  market_segment                  119390 non-null  object \n",
      " 15  distribution_channel            119390 non-null  object \n",
      " 16  is_repeated_guest               119390 non-null  int64  \n",
      " 17  previous_cancellations          119390 non-null  int64  \n",
      " 18  previous_bookings_not_canceled  119390 non-null  int64  \n",
      " 19  reserved_room_type              119390 non-null  object \n",
      " 20  assigned_room_type              119390 non-null  object \n",
      " 21  booking_changes                 119390 non-null  int64  \n",
      " 22  deposit_type                    119390 non-null  object \n",
      " 23  agent                           103050 non-null  float64\n",
      " 24  company                         6797 non-null    float64\n",
      " 25  days_in_waiting_list            119390 non-null  int64  \n",
      " 26  customer_type                   119390 non-null  object \n",
      " 27  adr                             119390 non-null  float64\n",
      " 28  required_car_parking_spaces     119390 non-null  int64  \n",
      " 29  total_of_special_requests       119390 non-null  int64  \n",
      " 30  reservation_status              119390 non-null  object \n",
      " 31  reservation_status_date         119390 non-null  object \n",
      "dtypes: float64(4), int64(16), object(12)\n",
      "memory usage: 29.1+ MB\n"
     ]
    }
   ],
   "source": [
    "hotel = pd.read_csv(\"data/hotel_bookings.csv\",low_memory=False)\n",
    "hotel.info()"
   ]
  },
  {
   "cell_type": "markdown",
   "id": "21a2976b",
   "metadata": {},
   "source": [
    "**Describe the meaning and type of data (scale, values, etc.) for each attribute in the data file.**"
   ]
  },
  {
   "cell_type": "markdown",
   "id": "12561623",
   "metadata": {},
   "source": [
    "### Data Description\n",
    "- Source: https://www.sciencedirect.com/science/article/pii/S2352340918315191"
   ]
  },
  {
   "cell_type": "markdown",
   "id": "997a86ed",
   "metadata": {},
   "source": [
    "Variable |Type |Description | Further Description\n",
    "-----|-----|-----|----|\n",
    "ADR | Numeric | Average Daily Rate |  \n",
    "Adults | Integer | Number of adults\n",
    "Agent | Categorical | ID of the travel agency that made the booking\n",
    "ArrivalDateDayOfMonth | Categorical | Day of the month of the arrival date\n",
    "ArrivalDateMonth | Numeric | Month of arrival date with 12 categories: “January” to “December”\n",
    "ArrivalDateWeekNumber | Numeric | Week number of the arrival date\n",
    "ArrivalDateYear | Numeric | Year of arrival date\n",
    "AssignedRoomType | Numeric | Code for the type of room assigned to the booking. Sometimes the assigned room type differs from the reserved room type due to hotel operation reasons (e.g. overbooking) or by customer request.\n",
    "Babies | Integer | Number of babies\n",
    "BookingChanges | Integer | Number of changes/amendments made to the booking from the moment the booking was entered on the PMS until the moment of check-in or cancellation\n",
    "Children | Integer | Number of children\n",
    "Company | Categorical | ID of the company/entity that made the booking or responsible for paying the booking. \n",
    "Country | Categorical | Country of origin.\n",
    "CustomerType | Categorical | Type of booking. | Assuming one of four categories: Contract - when the booking has an allotment or other type of contract associated to it; Group – when the booking is asso- ciated to a group; Transient – when the booking is not part of a group or contract, and is not associated to other transient booking; Transient-party – when the booking is transient, but is associated to at least other transient booking\n",
    "DaysInWaitingList | Integer | Number of days the booking was in the waiting list before it was confirmed to the customer\n",
    "DepositType | Categorical | Indication on if the customer made a deposit to guarantee the booking. | This variable can assume three categories: No Deposit – no deposit was made; Non Refund – a deposit was made in the value of the total stay cost; Refundable – a deposit was made with a value under the total cost of stay.\n",
    "DistributionChannel | Integer | Booking distribution channel. The term “TA” means “Travel Agents” and “TO” means “Tour Operators”\n",
    "IsCanceled | Categorical | Value indicating if the booking was canceled (1) or not (0)\n",
    "IsRepeatedGuest | Categorical | Value indicating if the booking name was from a repeated guest (1) or not (0)\n",
    "LeadTime | Integer | Number of days that elapsed between the entering date of the booking into the PMS and the arrival date\n",
    "MarketSegment | Categorical | Market segment designation. | In categories, the term “TA” means “Travel Agents” and “TO” means “Tour Operators”|\n",
    "Meal | Categorical | Type of meal booked. Categories are presented in standard hospitality meal packages: | Undefined/SC – no meal package; BB – Bed & Breakfast; HB – Half board (breakfast and one other meal – usually dinner); FB – Full board (breakfast, lunch and dinner)\n",
    "PreviousBookingsNotCanceled | Integer | Number of previous bookings that were NOT cancelled by the customer prior to the current booking\n",
    "PreviousCancellations | Integer | Number of previous bookings that were cancelled by the customer prior to the current booking\n",
    "RequiredCardParkingSpaces | Integer | Number of car parking spaces required by the customer\n",
    "ReservationStatus | Categorical | Reservation last status | assuming one of three categories: Canceled – booking was canceled by the customer; Check-Out – customer has checked in but already departed; No-Show – customer did not check-in and did inform the hotel of the reason why |\n",
    "ReservationStatusDate | Date | Date at which the last status was set |\n",
    "ReservedRoomType | Categorical | Code of room type reserved. |\n",
    "StaysInWeekendNights | Integer | Number of weekend nights (Saturday or Sunday) the guest stayed or booked to stay at the hotel |\n",
    "StaysInWeekNights | Integer | Number of week nights (Monday to Friday) the guest stayed or booked to stay at the hotel |\n",
    "TotalOfSpecialRequests | Integer | Number of special requests made by the customer (e.g. twin bed or high floor)|\n",
    "\n",
    "\n",
    "\n"
   ]
  },
  {
   "cell_type": "code",
   "execution_count": 3,
   "id": "8acec482",
   "metadata": {},
   "outputs": [
    {
     "name": "stdout",
     "output_type": "stream",
     "text": [
      "<class 'pandas.core.frame.DataFrame'>\n",
      "RangeIndex: 119390 entries, 0 to 119389\n",
      "Data columns (total 32 columns):\n",
      " #   Column                          Non-Null Count   Dtype  \n",
      "---  ------                          --------------   -----  \n",
      " 0   hotel                           119390 non-null  object \n",
      " 1   is_canceled                     119390 non-null  int64  \n",
      " 2   lead_time                       119390 non-null  int64  \n",
      " 3   arrival_date_year               119390 non-null  int64  \n",
      " 4   arrival_date_month              119390 non-null  object \n",
      " 5   arrival_date_week_number        119390 non-null  int64  \n",
      " 6   arrival_date_day_of_month       119390 non-null  int64  \n",
      " 7   stays_in_weekend_nights         119390 non-null  int64  \n",
      " 8   stays_in_week_nights            119390 non-null  int64  \n",
      " 9   adults                          119390 non-null  int64  \n",
      " 10  children                        119386 non-null  float64\n",
      " 11  babies                          119390 non-null  int64  \n",
      " 12  meal                            119390 non-null  object \n",
      " 13  country                         118902 non-null  object \n",
      " 14  market_segment                  119390 non-null  object \n",
      " 15  distribution_channel            119390 non-null  object \n",
      " 16  is_repeated_guest               119390 non-null  int64  \n",
      " 17  previous_cancellations          119390 non-null  int64  \n",
      " 18  previous_bookings_not_canceled  119390 non-null  int64  \n",
      " 19  reserved_room_type              119390 non-null  object \n",
      " 20  assigned_room_type              119390 non-null  object \n",
      " 21  booking_changes                 119390 non-null  int64  \n",
      " 22  deposit_type                    119390 non-null  object \n",
      " 23  agent                           103050 non-null  float64\n",
      " 24  company                         6797 non-null    float64\n",
      " 25  days_in_waiting_list            119390 non-null  int64  \n",
      " 26  customer_type                   119390 non-null  object \n",
      " 27  adr                             119390 non-null  float64\n",
      " 28  required_car_parking_spaces     119390 non-null  int64  \n",
      " 29  total_of_special_requests       119390 non-null  int64  \n",
      " 30  reservation_status              119390 non-null  object \n",
      " 31  reservation_status_date         119390 non-null  object \n",
      "dtypes: float64(4), int64(16), object(12)\n",
      "memory usage: 29.1+ MB\n"
     ]
    }
   ],
   "source": [
    "hotel.info()"
   ]
  },
  {
   "cell_type": "markdown",
   "id": "c1755cd4",
   "metadata": {},
   "source": [
    "### Verify data quality: \n",
    "**Are there missing values? Duplicate data? Outliers? Are those mistakes? How do you deal with these problems?**"
   ]
  },
  {
   "cell_type": "code",
   "execution_count": 4,
   "id": "aecc787a",
   "metadata": {
    "scrolled": true
   },
   "outputs": [
    {
     "data": {
      "text/html": [
       "<div>\n",
       "<style scoped>\n",
       "    .dataframe tbody tr th:only-of-type {\n",
       "        vertical-align: middle;\n",
       "    }\n",
       "\n",
       "    .dataframe tbody tr th {\n",
       "        vertical-align: top;\n",
       "    }\n",
       "\n",
       "    .dataframe thead th {\n",
       "        text-align: right;\n",
       "    }\n",
       "</style>\n",
       "<table border=\"1\" class=\"dataframe\">\n",
       "  <thead>\n",
       "    <tr style=\"text-align: right;\">\n",
       "      <th></th>\n",
       "      <th>Variable Name</th>\n",
       "      <th>Number of Missing Values</th>\n",
       "    </tr>\n",
       "  </thead>\n",
       "  <tbody>\n",
       "    <tr>\n",
       "      <th>24</th>\n",
       "      <td>company</td>\n",
       "      <td>112593</td>\n",
       "    </tr>\n",
       "    <tr>\n",
       "      <th>23</th>\n",
       "      <td>agent</td>\n",
       "      <td>16340</td>\n",
       "    </tr>\n",
       "    <tr>\n",
       "      <th>13</th>\n",
       "      <td>country</td>\n",
       "      <td>488</td>\n",
       "    </tr>\n",
       "    <tr>\n",
       "      <th>10</th>\n",
       "      <td>children</td>\n",
       "      <td>4</td>\n",
       "    </tr>\n",
       "    <tr>\n",
       "      <th>19</th>\n",
       "      <td>reserved_room_type</td>\n",
       "      <td>0</td>\n",
       "    </tr>\n",
       "    <tr>\n",
       "      <th>20</th>\n",
       "      <td>assigned_room_type</td>\n",
       "      <td>0</td>\n",
       "    </tr>\n",
       "    <tr>\n",
       "      <th>21</th>\n",
       "      <td>booking_changes</td>\n",
       "      <td>0</td>\n",
       "    </tr>\n",
       "    <tr>\n",
       "      <th>22</th>\n",
       "      <td>deposit_type</td>\n",
       "      <td>0</td>\n",
       "    </tr>\n",
       "    <tr>\n",
       "      <th>0</th>\n",
       "      <td>hotel</td>\n",
       "      <td>0</td>\n",
       "    </tr>\n",
       "    <tr>\n",
       "      <th>17</th>\n",
       "      <td>previous_cancellations</td>\n",
       "      <td>0</td>\n",
       "    </tr>\n",
       "    <tr>\n",
       "      <th>25</th>\n",
       "      <td>days_in_waiting_list</td>\n",
       "      <td>0</td>\n",
       "    </tr>\n",
       "    <tr>\n",
       "      <th>26</th>\n",
       "      <td>customer_type</td>\n",
       "      <td>0</td>\n",
       "    </tr>\n",
       "    <tr>\n",
       "      <th>27</th>\n",
       "      <td>adr</td>\n",
       "      <td>0</td>\n",
       "    </tr>\n",
       "    <tr>\n",
       "      <th>28</th>\n",
       "      <td>required_car_parking_spaces</td>\n",
       "      <td>0</td>\n",
       "    </tr>\n",
       "    <tr>\n",
       "      <th>29</th>\n",
       "      <td>total_of_special_requests</td>\n",
       "      <td>0</td>\n",
       "    </tr>\n",
       "    <tr>\n",
       "      <th>30</th>\n",
       "      <td>reservation_status</td>\n",
       "      <td>0</td>\n",
       "    </tr>\n",
       "    <tr>\n",
       "      <th>18</th>\n",
       "      <td>previous_bookings_not_canceled</td>\n",
       "      <td>0</td>\n",
       "    </tr>\n",
       "    <tr>\n",
       "      <th>16</th>\n",
       "      <td>is_repeated_guest</td>\n",
       "      <td>0</td>\n",
       "    </tr>\n",
       "    <tr>\n",
       "      <th>1</th>\n",
       "      <td>is_canceled</td>\n",
       "      <td>0</td>\n",
       "    </tr>\n",
       "    <tr>\n",
       "      <th>15</th>\n",
       "      <td>distribution_channel</td>\n",
       "      <td>0</td>\n",
       "    </tr>\n",
       "    <tr>\n",
       "      <th>14</th>\n",
       "      <td>market_segment</td>\n",
       "      <td>0</td>\n",
       "    </tr>\n",
       "    <tr>\n",
       "      <th>12</th>\n",
       "      <td>meal</td>\n",
       "      <td>0</td>\n",
       "    </tr>\n",
       "    <tr>\n",
       "      <th>11</th>\n",
       "      <td>babies</td>\n",
       "      <td>0</td>\n",
       "    </tr>\n",
       "    <tr>\n",
       "      <th>9</th>\n",
       "      <td>adults</td>\n",
       "      <td>0</td>\n",
       "    </tr>\n",
       "    <tr>\n",
       "      <th>8</th>\n",
       "      <td>stays_in_week_nights</td>\n",
       "      <td>0</td>\n",
       "    </tr>\n",
       "    <tr>\n",
       "      <th>7</th>\n",
       "      <td>stays_in_weekend_nights</td>\n",
       "      <td>0</td>\n",
       "    </tr>\n",
       "    <tr>\n",
       "      <th>6</th>\n",
       "      <td>arrival_date_day_of_month</td>\n",
       "      <td>0</td>\n",
       "    </tr>\n",
       "    <tr>\n",
       "      <th>5</th>\n",
       "      <td>arrival_date_week_number</td>\n",
       "      <td>0</td>\n",
       "    </tr>\n",
       "    <tr>\n",
       "      <th>4</th>\n",
       "      <td>arrival_date_month</td>\n",
       "      <td>0</td>\n",
       "    </tr>\n",
       "    <tr>\n",
       "      <th>3</th>\n",
       "      <td>arrival_date_year</td>\n",
       "      <td>0</td>\n",
       "    </tr>\n",
       "    <tr>\n",
       "      <th>2</th>\n",
       "      <td>lead_time</td>\n",
       "      <td>0</td>\n",
       "    </tr>\n",
       "    <tr>\n",
       "      <th>31</th>\n",
       "      <td>reservation_status_date</td>\n",
       "      <td>0</td>\n",
       "    </tr>\n",
       "  </tbody>\n",
       "</table>\n",
       "</div>"
      ],
      "text/plain": [
       "                     Variable Name  Number of Missing Values\n",
       "24                         company                    112593\n",
       "23                           agent                     16340\n",
       "13                         country                       488\n",
       "10                        children                         4\n",
       "19              reserved_room_type                         0\n",
       "20              assigned_room_type                         0\n",
       "21                 booking_changes                         0\n",
       "22                    deposit_type                         0\n",
       "0                            hotel                         0\n",
       "17          previous_cancellations                         0\n",
       "25            days_in_waiting_list                         0\n",
       "26                   customer_type                         0\n",
       "27                             adr                         0\n",
       "28     required_car_parking_spaces                         0\n",
       "29       total_of_special_requests                         0\n",
       "30              reservation_status                         0\n",
       "18  previous_bookings_not_canceled                         0\n",
       "16               is_repeated_guest                         0\n",
       "1                      is_canceled                         0\n",
       "15            distribution_channel                         0\n",
       "14                  market_segment                         0\n",
       "12                            meal                         0\n",
       "11                          babies                         0\n",
       "9                           adults                         0\n",
       "8             stays_in_week_nights                         0\n",
       "7          stays_in_weekend_nights                         0\n",
       "6        arrival_date_day_of_month                         0\n",
       "5         arrival_date_week_number                         0\n",
       "4               arrival_date_month                         0\n",
       "3                arrival_date_year                         0\n",
       "2                        lead_time                         0\n",
       "31         reservation_status_date                         0"
      ]
     },
     "execution_count": 4,
     "metadata": {},
     "output_type": "execute_result"
    }
   ],
   "source": [
    "missing_vals = hotel.isna().sum().reset_index()\n",
    "missing_vals.columns = [\"Variable Name\",\"Number of Missing Values\"]\n",
    "missing_vals.sort_values(by=\"Number of Missing Values\", ascending=False)"
   ]
  },
  {
   "cell_type": "markdown",
   "id": "fea6ea33",
   "metadata": {},
   "source": [
    "- Looking at the missing values, we can see that the categorical variable `company` has 112,593 missing values of the 119,390 instances. So we decided to remove it entirely. \n",
    "\n",
    "Source: https://www.sciencedirect.com/science/article/pii/S2352340918315191\n",
    "\n",
    "- It is important to note that from the data source the NA values are consider as \"Not Applicable\". For example, if a booking “Agent” is defined as “NULL” it means that the booking did not came from a travel agent. \n",
    "\n",
    "- The categorical variable `agent` has over 16340 missing values and `country` has 488 missing values. We removed the `country` variable entirely, because we don't think that it will be a useful predictor in our model. So we decided to drop the subset of NA values for `agent` and `children`. We still wanted to remove the subset of these columns before we do not know where how the customer booked the hotel nor where their country of origin is."
   ]
  },
  {
   "cell_type": "code",
   "execution_count": 5,
   "id": "e4d0c20c",
   "metadata": {},
   "outputs": [],
   "source": [
    "#dropping `company` and `country columns\n",
    "hotel = hotel.drop(columns = [\"company\",\"country\"])"
   ]
  },
  {
   "cell_type": "code",
   "execution_count": 6,
   "id": "58ae0c8e",
   "metadata": {},
   "outputs": [],
   "source": [
    "hotel=hotel.dropna(subset=['agent',\"children\"])"
   ]
  },
  {
   "cell_type": "code",
   "execution_count": 7,
   "id": "9d708e4c",
   "metadata": {
    "scrolled": true
   },
   "outputs": [
    {
     "data": {
      "text/html": [
       "<div>\n",
       "<style scoped>\n",
       "    .dataframe tbody tr th:only-of-type {\n",
       "        vertical-align: middle;\n",
       "    }\n",
       "\n",
       "    .dataframe tbody tr th {\n",
       "        vertical-align: top;\n",
       "    }\n",
       "\n",
       "    .dataframe thead th {\n",
       "        text-align: right;\n",
       "    }\n",
       "</style>\n",
       "<table border=\"1\" class=\"dataframe\">\n",
       "  <thead>\n",
       "    <tr style=\"text-align: right;\">\n",
       "      <th></th>\n",
       "      <th>Variable Name</th>\n",
       "      <th>Number of Missing Values</th>\n",
       "    </tr>\n",
       "  </thead>\n",
       "  <tbody>\n",
       "    <tr>\n",
       "      <th>0</th>\n",
       "      <td>hotel</td>\n",
       "      <td>0</td>\n",
       "    </tr>\n",
       "    <tr>\n",
       "      <th>1</th>\n",
       "      <td>is_canceled</td>\n",
       "      <td>0</td>\n",
       "    </tr>\n",
       "    <tr>\n",
       "      <th>2</th>\n",
       "      <td>lead_time</td>\n",
       "      <td>0</td>\n",
       "    </tr>\n",
       "    <tr>\n",
       "      <th>3</th>\n",
       "      <td>arrival_date_year</td>\n",
       "      <td>0</td>\n",
       "    </tr>\n",
       "    <tr>\n",
       "      <th>4</th>\n",
       "      <td>arrival_date_month</td>\n",
       "      <td>0</td>\n",
       "    </tr>\n",
       "    <tr>\n",
       "      <th>5</th>\n",
       "      <td>arrival_date_week_number</td>\n",
       "      <td>0</td>\n",
       "    </tr>\n",
       "    <tr>\n",
       "      <th>6</th>\n",
       "      <td>arrival_date_day_of_month</td>\n",
       "      <td>0</td>\n",
       "    </tr>\n",
       "    <tr>\n",
       "      <th>7</th>\n",
       "      <td>stays_in_weekend_nights</td>\n",
       "      <td>0</td>\n",
       "    </tr>\n",
       "    <tr>\n",
       "      <th>8</th>\n",
       "      <td>stays_in_week_nights</td>\n",
       "      <td>0</td>\n",
       "    </tr>\n",
       "    <tr>\n",
       "      <th>9</th>\n",
       "      <td>adults</td>\n",
       "      <td>0</td>\n",
       "    </tr>\n",
       "    <tr>\n",
       "      <th>10</th>\n",
       "      <td>children</td>\n",
       "      <td>0</td>\n",
       "    </tr>\n",
       "    <tr>\n",
       "      <th>11</th>\n",
       "      <td>babies</td>\n",
       "      <td>0</td>\n",
       "    </tr>\n",
       "    <tr>\n",
       "      <th>12</th>\n",
       "      <td>meal</td>\n",
       "      <td>0</td>\n",
       "    </tr>\n",
       "    <tr>\n",
       "      <th>13</th>\n",
       "      <td>market_segment</td>\n",
       "      <td>0</td>\n",
       "    </tr>\n",
       "    <tr>\n",
       "      <th>14</th>\n",
       "      <td>distribution_channel</td>\n",
       "      <td>0</td>\n",
       "    </tr>\n",
       "    <tr>\n",
       "      <th>15</th>\n",
       "      <td>is_repeated_guest</td>\n",
       "      <td>0</td>\n",
       "    </tr>\n",
       "    <tr>\n",
       "      <th>16</th>\n",
       "      <td>previous_cancellations</td>\n",
       "      <td>0</td>\n",
       "    </tr>\n",
       "    <tr>\n",
       "      <th>17</th>\n",
       "      <td>previous_bookings_not_canceled</td>\n",
       "      <td>0</td>\n",
       "    </tr>\n",
       "    <tr>\n",
       "      <th>18</th>\n",
       "      <td>reserved_room_type</td>\n",
       "      <td>0</td>\n",
       "    </tr>\n",
       "    <tr>\n",
       "      <th>19</th>\n",
       "      <td>assigned_room_type</td>\n",
       "      <td>0</td>\n",
       "    </tr>\n",
       "    <tr>\n",
       "      <th>20</th>\n",
       "      <td>booking_changes</td>\n",
       "      <td>0</td>\n",
       "    </tr>\n",
       "    <tr>\n",
       "      <th>21</th>\n",
       "      <td>deposit_type</td>\n",
       "      <td>0</td>\n",
       "    </tr>\n",
       "    <tr>\n",
       "      <th>22</th>\n",
       "      <td>agent</td>\n",
       "      <td>0</td>\n",
       "    </tr>\n",
       "    <tr>\n",
       "      <th>23</th>\n",
       "      <td>days_in_waiting_list</td>\n",
       "      <td>0</td>\n",
       "    </tr>\n",
       "    <tr>\n",
       "      <th>24</th>\n",
       "      <td>customer_type</td>\n",
       "      <td>0</td>\n",
       "    </tr>\n",
       "    <tr>\n",
       "      <th>25</th>\n",
       "      <td>adr</td>\n",
       "      <td>0</td>\n",
       "    </tr>\n",
       "    <tr>\n",
       "      <th>26</th>\n",
       "      <td>required_car_parking_spaces</td>\n",
       "      <td>0</td>\n",
       "    </tr>\n",
       "    <tr>\n",
       "      <th>27</th>\n",
       "      <td>total_of_special_requests</td>\n",
       "      <td>0</td>\n",
       "    </tr>\n",
       "    <tr>\n",
       "      <th>28</th>\n",
       "      <td>reservation_status</td>\n",
       "      <td>0</td>\n",
       "    </tr>\n",
       "    <tr>\n",
       "      <th>29</th>\n",
       "      <td>reservation_status_date</td>\n",
       "      <td>0</td>\n",
       "    </tr>\n",
       "  </tbody>\n",
       "</table>\n",
       "</div>"
      ],
      "text/plain": [
       "                     Variable Name  Number of Missing Values\n",
       "0                            hotel                         0\n",
       "1                      is_canceled                         0\n",
       "2                        lead_time                         0\n",
       "3                arrival_date_year                         0\n",
       "4               arrival_date_month                         0\n",
       "5         arrival_date_week_number                         0\n",
       "6        arrival_date_day_of_month                         0\n",
       "7          stays_in_weekend_nights                         0\n",
       "8             stays_in_week_nights                         0\n",
       "9                           adults                         0\n",
       "10                        children                         0\n",
       "11                          babies                         0\n",
       "12                            meal                         0\n",
       "13                  market_segment                         0\n",
       "14            distribution_channel                         0\n",
       "15               is_repeated_guest                         0\n",
       "16          previous_cancellations                         0\n",
       "17  previous_bookings_not_canceled                         0\n",
       "18              reserved_room_type                         0\n",
       "19              assigned_room_type                         0\n",
       "20                 booking_changes                         0\n",
       "21                    deposit_type                         0\n",
       "22                           agent                         0\n",
       "23            days_in_waiting_list                         0\n",
       "24                   customer_type                         0\n",
       "25                             adr                         0\n",
       "26     required_car_parking_spaces                         0\n",
       "27       total_of_special_requests                         0\n",
       "28              reservation_status                         0\n",
       "29         reservation_status_date                         0"
      ]
     },
     "execution_count": 7,
     "metadata": {},
     "output_type": "execute_result"
    }
   ],
   "source": [
    "no_missing_vals = hotel.isna().sum().reset_index()\n",
    "no_missing_vals.columns = [\"Variable Name\",\"Number of Missing Values\"]\n",
    "no_missing_vals"
   ]
  },
  {
   "cell_type": "markdown",
   "id": "fe136733",
   "metadata": {},
   "source": [
    "Looking at the duplicates, we are not worried about duplicates because of the nature of the dataset. Each instance shows us when a booking resulted in a cancellation or not. The data source did not mention anything about duplicate in the dataset. "
   ]
  },
  {
   "cell_type": "markdown",
   "id": "895e0d04",
   "metadata": {},
   "source": [
    "### Looking at outliers:"
   ]
  },
  {
   "cell_type": "code",
   "execution_count": 8,
   "id": "17a5f0c1",
   "metadata": {
    "scrolled": false
   },
   "outputs": [
    {
     "data": {
      "text/html": [
       "<div>\n",
       "<style scoped>\n",
       "    .dataframe tbody tr th:only-of-type {\n",
       "        vertical-align: middle;\n",
       "    }\n",
       "\n",
       "    .dataframe tbody tr th {\n",
       "        vertical-align: top;\n",
       "    }\n",
       "\n",
       "    .dataframe thead th {\n",
       "        text-align: right;\n",
       "    }\n",
       "</style>\n",
       "<table border=\"1\" class=\"dataframe\">\n",
       "  <thead>\n",
       "    <tr style=\"text-align: right;\">\n",
       "      <th></th>\n",
       "      <th>is_canceled</th>\n",
       "      <th>lead_time</th>\n",
       "      <th>arrival_date_year</th>\n",
       "      <th>arrival_date_week_number</th>\n",
       "      <th>arrival_date_day_of_month</th>\n",
       "      <th>stays_in_weekend_nights</th>\n",
       "      <th>stays_in_week_nights</th>\n",
       "      <th>adults</th>\n",
       "      <th>children</th>\n",
       "      <th>babies</th>\n",
       "      <th>is_repeated_guest</th>\n",
       "      <th>previous_cancellations</th>\n",
       "      <th>previous_bookings_not_canceled</th>\n",
       "      <th>booking_changes</th>\n",
       "      <th>agent</th>\n",
       "      <th>days_in_waiting_list</th>\n",
       "      <th>adr</th>\n",
       "      <th>required_car_parking_spaces</th>\n",
       "      <th>total_of_special_requests</th>\n",
       "    </tr>\n",
       "  </thead>\n",
       "  <tbody>\n",
       "    <tr>\n",
       "      <th>count</th>\n",
       "      <td>103048.000000</td>\n",
       "      <td>103048.000000</td>\n",
       "      <td>103048.000000</td>\n",
       "      <td>103048.000000</td>\n",
       "      <td>103048.000000</td>\n",
       "      <td>103048.000000</td>\n",
       "      <td>103048.000000</td>\n",
       "      <td>103048.000000</td>\n",
       "      <td>103048.000000</td>\n",
       "      <td>103048.000000</td>\n",
       "      <td>103048.000000</td>\n",
       "      <td>103048.000000</td>\n",
       "      <td>103048.000000</td>\n",
       "      <td>103048.000000</td>\n",
       "      <td>103048.000000</td>\n",
       "      <td>103048.000000</td>\n",
       "      <td>103048.000000</td>\n",
       "      <td>103048.000000</td>\n",
       "      <td>103048.000000</td>\n",
       "    </tr>\n",
       "    <tr>\n",
       "      <th>mean</th>\n",
       "      <td>0.390032</td>\n",
       "      <td>111.674336</td>\n",
       "      <td>2016.156510</td>\n",
       "      <td>27.339327</td>\n",
       "      <td>15.784198</td>\n",
       "      <td>0.977874</td>\n",
       "      <td>2.589337</td>\n",
       "      <td>1.899464</td>\n",
       "      <td>0.111142</td>\n",
       "      <td>0.007686</td>\n",
       "      <td>0.014023</td>\n",
       "      <td>0.077216</td>\n",
       "      <td>0.024862</td>\n",
       "      <td>0.201702</td>\n",
       "      <td>86.694841</td>\n",
       "      <td>2.615665</td>\n",
       "      <td>104.619980</td>\n",
       "      <td>0.053218</td>\n",
       "      <td>0.605368</td>\n",
       "    </tr>\n",
       "    <tr>\n",
       "      <th>std</th>\n",
       "      <td>0.487759</td>\n",
       "      <td>107.671506</td>\n",
       "      <td>0.706216</td>\n",
       "      <td>13.285300</td>\n",
       "      <td>8.794013</td>\n",
       "      <td>1.003935</td>\n",
       "      <td>1.905763</td>\n",
       "      <td>0.491057</td>\n",
       "      <td>0.411817</td>\n",
       "      <td>0.097017</td>\n",
       "      <td>0.117584</td>\n",
       "      <td>0.757689</td>\n",
       "      <td>0.436639</td>\n",
       "      <td>0.624797</td>\n",
       "      <td>110.775127</td>\n",
       "      <td>18.783661</td>\n",
       "      <td>50.034041</td>\n",
       "      <td>0.225719</td>\n",
       "      <td>0.799222</td>\n",
       "    </tr>\n",
       "    <tr>\n",
       "      <th>min</th>\n",
       "      <td>0.000000</td>\n",
       "      <td>0.000000</td>\n",
       "      <td>2015.000000</td>\n",
       "      <td>1.000000</td>\n",
       "      <td>1.000000</td>\n",
       "      <td>0.000000</td>\n",
       "      <td>0.000000</td>\n",
       "      <td>0.000000</td>\n",
       "      <td>0.000000</td>\n",
       "      <td>0.000000</td>\n",
       "      <td>0.000000</td>\n",
       "      <td>0.000000</td>\n",
       "      <td>0.000000</td>\n",
       "      <td>0.000000</td>\n",
       "      <td>1.000000</td>\n",
       "      <td>0.000000</td>\n",
       "      <td>-6.380000</td>\n",
       "      <td>0.000000</td>\n",
       "      <td>0.000000</td>\n",
       "    </tr>\n",
       "    <tr>\n",
       "      <th>25%</th>\n",
       "      <td>0.000000</td>\n",
       "      <td>26.000000</td>\n",
       "      <td>2016.000000</td>\n",
       "      <td>17.000000</td>\n",
       "      <td>8.000000</td>\n",
       "      <td>0.000000</td>\n",
       "      <td>1.000000</td>\n",
       "      <td>2.000000</td>\n",
       "      <td>0.000000</td>\n",
       "      <td>0.000000</td>\n",
       "      <td>0.000000</td>\n",
       "      <td>0.000000</td>\n",
       "      <td>0.000000</td>\n",
       "      <td>0.000000</td>\n",
       "      <td>9.000000</td>\n",
       "      <td>0.000000</td>\n",
       "      <td>72.800000</td>\n",
       "      <td>0.000000</td>\n",
       "      <td>0.000000</td>\n",
       "    </tr>\n",
       "    <tr>\n",
       "      <th>50%</th>\n",
       "      <td>0.000000</td>\n",
       "      <td>79.000000</td>\n",
       "      <td>2016.000000</td>\n",
       "      <td>28.000000</td>\n",
       "      <td>16.000000</td>\n",
       "      <td>1.000000</td>\n",
       "      <td>2.000000</td>\n",
       "      <td>2.000000</td>\n",
       "      <td>0.000000</td>\n",
       "      <td>0.000000</td>\n",
       "      <td>0.000000</td>\n",
       "      <td>0.000000</td>\n",
       "      <td>0.000000</td>\n",
       "      <td>0.000000</td>\n",
       "      <td>14.000000</td>\n",
       "      <td>0.000000</td>\n",
       "      <td>96.300000</td>\n",
       "      <td>0.000000</td>\n",
       "      <td>0.000000</td>\n",
       "    </tr>\n",
       "    <tr>\n",
       "      <th>75%</th>\n",
       "      <td>1.000000</td>\n",
       "      <td>169.000000</td>\n",
       "      <td>2017.000000</td>\n",
       "      <td>38.000000</td>\n",
       "      <td>24.000000</td>\n",
       "      <td>2.000000</td>\n",
       "      <td>3.000000</td>\n",
       "      <td>2.000000</td>\n",
       "      <td>0.000000</td>\n",
       "      <td>0.000000</td>\n",
       "      <td>0.000000</td>\n",
       "      <td>0.000000</td>\n",
       "      <td>0.000000</td>\n",
       "      <td>0.000000</td>\n",
       "      <td>229.000000</td>\n",
       "      <td>0.000000</td>\n",
       "      <td>127.800000</td>\n",
       "      <td>0.000000</td>\n",
       "      <td>1.000000</td>\n",
       "    </tr>\n",
       "    <tr>\n",
       "      <th>max</th>\n",
       "      <td>1.000000</td>\n",
       "      <td>629.000000</td>\n",
       "      <td>2017.000000</td>\n",
       "      <td>53.000000</td>\n",
       "      <td>31.000000</td>\n",
       "      <td>16.000000</td>\n",
       "      <td>41.000000</td>\n",
       "      <td>26.000000</td>\n",
       "      <td>10.000000</td>\n",
       "      <td>10.000000</td>\n",
       "      <td>1.000000</td>\n",
       "      <td>26.000000</td>\n",
       "      <td>50.000000</td>\n",
       "      <td>18.000000</td>\n",
       "      <td>535.000000</td>\n",
       "      <td>391.000000</td>\n",
       "      <td>5400.000000</td>\n",
       "      <td>3.000000</td>\n",
       "      <td>5.000000</td>\n",
       "    </tr>\n",
       "  </tbody>\n",
       "</table>\n",
       "</div>"
      ],
      "text/plain": [
       "         is_canceled      lead_time  arrival_date_year  \\\n",
       "count  103048.000000  103048.000000      103048.000000   \n",
       "mean        0.390032     111.674336        2016.156510   \n",
       "std         0.487759     107.671506           0.706216   \n",
       "min         0.000000       0.000000        2015.000000   \n",
       "25%         0.000000      26.000000        2016.000000   \n",
       "50%         0.000000      79.000000        2016.000000   \n",
       "75%         1.000000     169.000000        2017.000000   \n",
       "max         1.000000     629.000000        2017.000000   \n",
       "\n",
       "       arrival_date_week_number  arrival_date_day_of_month  \\\n",
       "count             103048.000000              103048.000000   \n",
       "mean                  27.339327                  15.784198   \n",
       "std                   13.285300                   8.794013   \n",
       "min                    1.000000                   1.000000   \n",
       "25%                   17.000000                   8.000000   \n",
       "50%                   28.000000                  16.000000   \n",
       "75%                   38.000000                  24.000000   \n",
       "max                   53.000000                  31.000000   \n",
       "\n",
       "       stays_in_weekend_nights  stays_in_week_nights         adults  \\\n",
       "count            103048.000000         103048.000000  103048.000000   \n",
       "mean                  0.977874              2.589337       1.899464   \n",
       "std                   1.003935              1.905763       0.491057   \n",
       "min                   0.000000              0.000000       0.000000   \n",
       "25%                   0.000000              1.000000       2.000000   \n",
       "50%                   1.000000              2.000000       2.000000   \n",
       "75%                   2.000000              3.000000       2.000000   \n",
       "max                  16.000000             41.000000      26.000000   \n",
       "\n",
       "            children         babies  is_repeated_guest  \\\n",
       "count  103048.000000  103048.000000      103048.000000   \n",
       "mean        0.111142       0.007686           0.014023   \n",
       "std         0.411817       0.097017           0.117584   \n",
       "min         0.000000       0.000000           0.000000   \n",
       "25%         0.000000       0.000000           0.000000   \n",
       "50%         0.000000       0.000000           0.000000   \n",
       "75%         0.000000       0.000000           0.000000   \n",
       "max        10.000000      10.000000           1.000000   \n",
       "\n",
       "       previous_cancellations  previous_bookings_not_canceled  \\\n",
       "count           103048.000000                   103048.000000   \n",
       "mean                 0.077216                        0.024862   \n",
       "std                  0.757689                        0.436639   \n",
       "min                  0.000000                        0.000000   \n",
       "25%                  0.000000                        0.000000   \n",
       "50%                  0.000000                        0.000000   \n",
       "75%                  0.000000                        0.000000   \n",
       "max                 26.000000                       50.000000   \n",
       "\n",
       "       booking_changes          agent  days_in_waiting_list            adr  \\\n",
       "count    103048.000000  103048.000000         103048.000000  103048.000000   \n",
       "mean          0.201702      86.694841              2.615665     104.619980   \n",
       "std           0.624797     110.775127             18.783661      50.034041   \n",
       "min           0.000000       1.000000              0.000000      -6.380000   \n",
       "25%           0.000000       9.000000              0.000000      72.800000   \n",
       "50%           0.000000      14.000000              0.000000      96.300000   \n",
       "75%           0.000000     229.000000              0.000000     127.800000   \n",
       "max          18.000000     535.000000            391.000000    5400.000000   \n",
       "\n",
       "       required_car_parking_spaces  total_of_special_requests  \n",
       "count                103048.000000              103048.000000  \n",
       "mean                      0.053218                   0.605368  \n",
       "std                       0.225719                   0.799222  \n",
       "min                       0.000000                   0.000000  \n",
       "25%                       0.000000                   0.000000  \n",
       "50%                       0.000000                   0.000000  \n",
       "75%                       0.000000                   1.000000  \n",
       "max                       3.000000                   5.000000  "
      ]
     },
     "execution_count": 8,
     "metadata": {},
     "output_type": "execute_result"
    }
   ],
   "source": [
    "hotel.describe()"
   ]
  },
  {
   "cell_type": "markdown",
   "id": "8123d106",
   "metadata": {},
   "source": [
    "We decided to remove the outliers for the the variables below. ADR (Average Daily Rate) had an incorrect negative value that needed to be removed. Additionally, there were a significant number of outliers for other predictors. So we decided to remove them entirely. "
   ]
  },
  {
   "cell_type": "code",
   "execution_count": 9,
   "id": "e4b57f11",
   "metadata": {},
   "outputs": [],
   "source": [
    "hotel = hotel[hotel.adr != 5400]\n",
    "hotel = hotel[hotel.adr != -6.38]\n",
    "hotel = hotel[hotel.previous_bookings_not_canceled != 50]\n",
    "hotel = hotel[hotel.days_in_waiting_list != 391]\n",
    "hotel = hotel[hotel.previous_cancellations != 26]\n",
    "hotel = hotel[hotel.adults != 26]\n",
    "hotel = hotel[hotel.children != 10]\n",
    "hotel = hotel[hotel.babies != 10]"
   ]
  },
  {
   "cell_type": "markdown",
   "id": "24e2b863",
   "metadata": {},
   "source": [
    "Here are the summary statistics after removing the outliers"
   ]
  },
  {
   "cell_type": "code",
   "execution_count": 10,
   "id": "2d6f6678",
   "metadata": {
    "scrolled": true
   },
   "outputs": [
    {
     "data": {
      "text/html": [
       "<div>\n",
       "<style scoped>\n",
       "    .dataframe tbody tr th:only-of-type {\n",
       "        vertical-align: middle;\n",
       "    }\n",
       "\n",
       "    .dataframe tbody tr th {\n",
       "        vertical-align: top;\n",
       "    }\n",
       "\n",
       "    .dataframe thead th {\n",
       "        text-align: right;\n",
       "    }\n",
       "</style>\n",
       "<table border=\"1\" class=\"dataframe\">\n",
       "  <thead>\n",
       "    <tr style=\"text-align: right;\">\n",
       "      <th></th>\n",
       "      <th>is_canceled</th>\n",
       "      <th>lead_time</th>\n",
       "      <th>arrival_date_year</th>\n",
       "      <th>arrival_date_week_number</th>\n",
       "      <th>arrival_date_day_of_month</th>\n",
       "      <th>stays_in_weekend_nights</th>\n",
       "      <th>stays_in_week_nights</th>\n",
       "      <th>adults</th>\n",
       "      <th>children</th>\n",
       "      <th>babies</th>\n",
       "      <th>is_repeated_guest</th>\n",
       "      <th>previous_cancellations</th>\n",
       "      <th>previous_bookings_not_canceled</th>\n",
       "      <th>booking_changes</th>\n",
       "      <th>agent</th>\n",
       "      <th>days_in_waiting_list</th>\n",
       "      <th>adr</th>\n",
       "      <th>required_car_parking_spaces</th>\n",
       "      <th>total_of_special_requests</th>\n",
       "    </tr>\n",
       "  </thead>\n",
       "  <tbody>\n",
       "    <tr>\n",
       "      <th>count</th>\n",
       "      <td>102967.000000</td>\n",
       "      <td>102967.000000</td>\n",
       "      <td>102967.000000</td>\n",
       "      <td>102967.000000</td>\n",
       "      <td>102967.000000</td>\n",
       "      <td>102967.000000</td>\n",
       "      <td>102967.000000</td>\n",
       "      <td>102967.000000</td>\n",
       "      <td>102967.000000</td>\n",
       "      <td>102967.000000</td>\n",
       "      <td>102967.000000</td>\n",
       "      <td>102967.000000</td>\n",
       "      <td>102967.000000</td>\n",
       "      <td>102967.000000</td>\n",
       "      <td>102967.000000</td>\n",
       "      <td>102967.000000</td>\n",
       "      <td>102967.000000</td>\n",
       "      <td>102967.000000</td>\n",
       "      <td>102967.000000</td>\n",
       "    </tr>\n",
       "    <tr>\n",
       "      <th>mean</th>\n",
       "      <td>0.389581</td>\n",
       "      <td>111.473997</td>\n",
       "      <td>2016.156934</td>\n",
       "      <td>27.329018</td>\n",
       "      <td>15.786271</td>\n",
       "      <td>0.977944</td>\n",
       "      <td>2.590014</td>\n",
       "      <td>1.898230</td>\n",
       "      <td>0.111133</td>\n",
       "      <td>0.007595</td>\n",
       "      <td>0.014014</td>\n",
       "      <td>0.070663</td>\n",
       "      <td>0.024377</td>\n",
       "      <td>0.201744</td>\n",
       "      <td>86.702099</td>\n",
       "      <td>2.446842</td>\n",
       "      <td>104.606121</td>\n",
       "      <td>0.053260</td>\n",
       "      <td>0.605825</td>\n",
       "    </tr>\n",
       "    <tr>\n",
       "      <th>std</th>\n",
       "      <td>0.487658</td>\n",
       "      <td>107.429228</td>\n",
       "      <td>0.706187</td>\n",
       "      <td>13.284131</td>\n",
       "      <td>8.792920</td>\n",
       "      <td>1.003862</td>\n",
       "      <td>1.905747</td>\n",
       "      <td>0.461633</td>\n",
       "      <td>0.410813</td>\n",
       "      <td>0.091924</td>\n",
       "      <td>0.117550</td>\n",
       "      <td>0.636065</td>\n",
       "      <td>0.408056</td>\n",
       "      <td>0.624900</td>\n",
       "      <td>110.785023</td>\n",
       "      <td>16.945466</td>\n",
       "      <td>47.232655</td>\n",
       "      <td>0.225803</td>\n",
       "      <td>0.799359</td>\n",
       "    </tr>\n",
       "    <tr>\n",
       "      <th>min</th>\n",
       "      <td>0.000000</td>\n",
       "      <td>0.000000</td>\n",
       "      <td>2015.000000</td>\n",
       "      <td>1.000000</td>\n",
       "      <td>1.000000</td>\n",
       "      <td>0.000000</td>\n",
       "      <td>0.000000</td>\n",
       "      <td>0.000000</td>\n",
       "      <td>0.000000</td>\n",
       "      <td>0.000000</td>\n",
       "      <td>0.000000</td>\n",
       "      <td>0.000000</td>\n",
       "      <td>0.000000</td>\n",
       "      <td>0.000000</td>\n",
       "      <td>1.000000</td>\n",
       "      <td>0.000000</td>\n",
       "      <td>0.000000</td>\n",
       "      <td>0.000000</td>\n",
       "      <td>0.000000</td>\n",
       "    </tr>\n",
       "    <tr>\n",
       "      <th>25%</th>\n",
       "      <td>0.000000</td>\n",
       "      <td>26.000000</td>\n",
       "      <td>2016.000000</td>\n",
       "      <td>17.000000</td>\n",
       "      <td>8.000000</td>\n",
       "      <td>0.000000</td>\n",
       "      <td>1.000000</td>\n",
       "      <td>2.000000</td>\n",
       "      <td>0.000000</td>\n",
       "      <td>0.000000</td>\n",
       "      <td>0.000000</td>\n",
       "      <td>0.000000</td>\n",
       "      <td>0.000000</td>\n",
       "      <td>0.000000</td>\n",
       "      <td>9.000000</td>\n",
       "      <td>0.000000</td>\n",
       "      <td>72.990000</td>\n",
       "      <td>0.000000</td>\n",
       "      <td>0.000000</td>\n",
       "    </tr>\n",
       "    <tr>\n",
       "      <th>50%</th>\n",
       "      <td>0.000000</td>\n",
       "      <td>79.000000</td>\n",
       "      <td>2016.000000</td>\n",
       "      <td>28.000000</td>\n",
       "      <td>16.000000</td>\n",
       "      <td>1.000000</td>\n",
       "      <td>2.000000</td>\n",
       "      <td>2.000000</td>\n",
       "      <td>0.000000</td>\n",
       "      <td>0.000000</td>\n",
       "      <td>0.000000</td>\n",
       "      <td>0.000000</td>\n",
       "      <td>0.000000</td>\n",
       "      <td>0.000000</td>\n",
       "      <td>14.000000</td>\n",
       "      <td>0.000000</td>\n",
       "      <td>96.300000</td>\n",
       "      <td>0.000000</td>\n",
       "      <td>0.000000</td>\n",
       "    </tr>\n",
       "    <tr>\n",
       "      <th>75%</th>\n",
       "      <td>1.000000</td>\n",
       "      <td>168.000000</td>\n",
       "      <td>2017.000000</td>\n",
       "      <td>38.000000</td>\n",
       "      <td>24.000000</td>\n",
       "      <td>2.000000</td>\n",
       "      <td>3.000000</td>\n",
       "      <td>2.000000</td>\n",
       "      <td>0.000000</td>\n",
       "      <td>0.000000</td>\n",
       "      <td>0.000000</td>\n",
       "      <td>0.000000</td>\n",
       "      <td>0.000000</td>\n",
       "      <td>0.000000</td>\n",
       "      <td>229.000000</td>\n",
       "      <td>0.000000</td>\n",
       "      <td>127.800000</td>\n",
       "      <td>0.000000</td>\n",
       "      <td>1.000000</td>\n",
       "    </tr>\n",
       "    <tr>\n",
       "      <th>max</th>\n",
       "      <td>1.000000</td>\n",
       "      <td>629.000000</td>\n",
       "      <td>2017.000000</td>\n",
       "      <td>53.000000</td>\n",
       "      <td>31.000000</td>\n",
       "      <td>16.000000</td>\n",
       "      <td>41.000000</td>\n",
       "      <td>4.000000</td>\n",
       "      <td>3.000000</td>\n",
       "      <td>9.000000</td>\n",
       "      <td>1.000000</td>\n",
       "      <td>25.000000</td>\n",
       "      <td>25.000000</td>\n",
       "      <td>18.000000</td>\n",
       "      <td>535.000000</td>\n",
       "      <td>379.000000</td>\n",
       "      <td>510.000000</td>\n",
       "      <td>3.000000</td>\n",
       "      <td>5.000000</td>\n",
       "    </tr>\n",
       "  </tbody>\n",
       "</table>\n",
       "</div>"
      ],
      "text/plain": [
       "         is_canceled      lead_time  arrival_date_year  \\\n",
       "count  102967.000000  102967.000000      102967.000000   \n",
       "mean        0.389581     111.473997        2016.156934   \n",
       "std         0.487658     107.429228           0.706187   \n",
       "min         0.000000       0.000000        2015.000000   \n",
       "25%         0.000000      26.000000        2016.000000   \n",
       "50%         0.000000      79.000000        2016.000000   \n",
       "75%         1.000000     168.000000        2017.000000   \n",
       "max         1.000000     629.000000        2017.000000   \n",
       "\n",
       "       arrival_date_week_number  arrival_date_day_of_month  \\\n",
       "count             102967.000000              102967.000000   \n",
       "mean                  27.329018                  15.786271   \n",
       "std                   13.284131                   8.792920   \n",
       "min                    1.000000                   1.000000   \n",
       "25%                   17.000000                   8.000000   \n",
       "50%                   28.000000                  16.000000   \n",
       "75%                   38.000000                  24.000000   \n",
       "max                   53.000000                  31.000000   \n",
       "\n",
       "       stays_in_weekend_nights  stays_in_week_nights         adults  \\\n",
       "count            102967.000000         102967.000000  102967.000000   \n",
       "mean                  0.977944              2.590014       1.898230   \n",
       "std                   1.003862              1.905747       0.461633   \n",
       "min                   0.000000              0.000000       0.000000   \n",
       "25%                   0.000000              1.000000       2.000000   \n",
       "50%                   1.000000              2.000000       2.000000   \n",
       "75%                   2.000000              3.000000       2.000000   \n",
       "max                  16.000000             41.000000       4.000000   \n",
       "\n",
       "            children         babies  is_repeated_guest  \\\n",
       "count  102967.000000  102967.000000      102967.000000   \n",
       "mean        0.111133       0.007595           0.014014   \n",
       "std         0.410813       0.091924           0.117550   \n",
       "min         0.000000       0.000000           0.000000   \n",
       "25%         0.000000       0.000000           0.000000   \n",
       "50%         0.000000       0.000000           0.000000   \n",
       "75%         0.000000       0.000000           0.000000   \n",
       "max         3.000000       9.000000           1.000000   \n",
       "\n",
       "       previous_cancellations  previous_bookings_not_canceled  \\\n",
       "count           102967.000000                   102967.000000   \n",
       "mean                 0.070663                        0.024377   \n",
       "std                  0.636065                        0.408056   \n",
       "min                  0.000000                        0.000000   \n",
       "25%                  0.000000                        0.000000   \n",
       "50%                  0.000000                        0.000000   \n",
       "75%                  0.000000                        0.000000   \n",
       "max                 25.000000                       25.000000   \n",
       "\n",
       "       booking_changes          agent  days_in_waiting_list            adr  \\\n",
       "count    102967.000000  102967.000000         102967.000000  102967.000000   \n",
       "mean          0.201744      86.702099              2.446842     104.606121   \n",
       "std           0.624900     110.785023             16.945466      47.232655   \n",
       "min           0.000000       1.000000              0.000000       0.000000   \n",
       "25%           0.000000       9.000000              0.000000      72.990000   \n",
       "50%           0.000000      14.000000              0.000000      96.300000   \n",
       "75%           0.000000     229.000000              0.000000     127.800000   \n",
       "max          18.000000     535.000000            379.000000     510.000000   \n",
       "\n",
       "       required_car_parking_spaces  total_of_special_requests  \n",
       "count                102967.000000              102967.000000  \n",
       "mean                      0.053260                   0.605825  \n",
       "std                       0.225803                   0.799359  \n",
       "min                       0.000000                   0.000000  \n",
       "25%                       0.000000                   0.000000  \n",
       "50%                       0.000000                   0.000000  \n",
       "75%                       0.000000                   1.000000  \n",
       "max                       3.000000                   5.000000  "
      ]
     },
     "execution_count": 10,
     "metadata": {},
     "output_type": "execute_result"
    }
   ],
   "source": [
    "hotel.describe()"
   ]
  },
  {
   "cell_type": "code",
   "execution_count": 11,
   "id": "fd0ca563",
   "metadata": {},
   "outputs": [
    {
     "data": {
      "text/html": [
       "<div>\n",
       "<style scoped>\n",
       "    .dataframe tbody tr th:only-of-type {\n",
       "        vertical-align: middle;\n",
       "    }\n",
       "\n",
       "    .dataframe tbody tr th {\n",
       "        vertical-align: top;\n",
       "    }\n",
       "\n",
       "    .dataframe thead th {\n",
       "        text-align: right;\n",
       "    }\n",
       "</style>\n",
       "<table border=\"1\" class=\"dataframe\">\n",
       "  <thead>\n",
       "    <tr style=\"text-align: right;\">\n",
       "      <th></th>\n",
       "      <th>index</th>\n",
       "      <th>is_canceled</th>\n",
       "    </tr>\n",
       "  </thead>\n",
       "  <tbody>\n",
       "    <tr>\n",
       "      <th>0</th>\n",
       "      <td>0</td>\n",
       "      <td>62853</td>\n",
       "    </tr>\n",
       "    <tr>\n",
       "      <th>1</th>\n",
       "      <td>1</td>\n",
       "      <td>40114</td>\n",
       "    </tr>\n",
       "  </tbody>\n",
       "</table>\n",
       "</div>"
      ],
      "text/plain": [
       "   index  is_canceled\n",
       "0      0        62853\n",
       "1      1        40114"
      ]
     },
     "execution_count": 11,
     "metadata": {},
     "output_type": "execute_result"
    }
   ],
   "source": [
    "hotel[\"is_canceled\"].value_counts().reset_index().sort_values(by=\"is_canceled\",ascending=False)"
   ]
  },
  {
   "cell_type": "markdown",
   "id": "834b534f",
   "metadata": {},
   "source": [
    "# Data Understanding 2\n",
    "\n",
    "**Visualize the any important attributes appropriately. Important: Provide an interpretation for any charts or graphs.**"
   ]
  },
  {
   "cell_type": "markdown",
   "id": "f91f14ae",
   "metadata": {},
   "source": [
    "#### What type of hotel has more bookings?"
   ]
  },
  {
   "cell_type": "code",
   "execution_count": 12,
   "id": "537174e4",
   "metadata": {},
   "outputs": [
    {
     "data": {
      "image/png": "[encoded data removed]",
      "text/plain": [
       "<Figure size 360x288 with 1 Axes>"
      ]
     },
     "metadata": {},
     "output_type": "display_data"
    }
   ],
   "source": [
    "# Count for both hotel types\n",
    "sns.set(style = \"darkgrid\")\n",
    "plt.figure(figsize=(5,4))\n",
    "plt.title('Hotel Type', fontdict = {'fontsize': 15})\n",
    "sns.countplot(data=hotel, x = 'hotel')\n",
    "plt.show()"
   ]
  },
  {
   "cell_type": "markdown",
   "id": "f4e86ce9",
   "metadata": {},
   "source": [
    "From the graph above, majority of the bookings were made in city hotels. This could be because city hotels tend to be cheaper, everything is more accessible for individuals or small groups of visitors. Resort prices could reduce the price to increase bookings."
   ]
  },
  {
   "cell_type": "markdown",
   "id": "78a37276",
   "metadata": {},
   "source": [
    "#### Which are the most busy months?"
   ]
  },
  {
   "cell_type": "code",
   "execution_count": 13,
   "id": "d4764f5a",
   "metadata": {
    "scrolled": false
   },
   "outputs": [
    {
     "data": {
      "text/plain": [
       "Text(0, 0.5, 'Count')"
      ]
     },
     "execution_count": 13,
     "metadata": {},
     "output_type": "execute_result"
    },
    {
     "data": {
      "image/png": "[encoded data removed]",
      "text/plain": [
       "<Figure size 1440x360 with 1 Axes>"
      ]
     },
     "metadata": {},
     "output_type": "display_data"
    }
   ],
   "source": [
    "#Which are the most busy months?\n",
    "plt.figure(figsize=(20,5))\n",
    "\n",
    "# data we will use in a list\n",
    "l2 = ['hotel','arrival_date_month']\n",
    "\n",
    "# plotting\n",
    "sns.countplot(data = hotel[l2],x= \"arrival_date_month\",hue=\"hotel\",order=[\"January\",\"February\",\"March\",\"April\",\"May\",\"June\",\n",
    "                                                                              \"July\",\"August\",\"September\",\"October\",\"November\",\"December\"]).set_title(\n",
    "'Visualization of Number of Visitors Each Month')\n",
    "plt.xlabel('Month')\n",
    "plt.ylabel('Count')"
   ]
  },
  {
   "cell_type": "markdown",
   "id": "c28a4d33",
   "metadata": {},
   "source": [
    "From the graph above, we can see that August is the busiest month for both City hotels and Resort hotels whereas bookings are lowest during January for both types of hotels. This could be because of weather conditions as people prefer going for vacation during more comfortable seasons such as Spring or Summer and not during Winter."
   ]
  },
  {
   "cell_type": "markdown",
   "id": "27558372",
   "metadata": {},
   "source": [
    "#### Visualizing the response variable: `is_cancelled`"
   ]
  },
  {
   "cell_type": "code",
   "execution_count": 14,
   "id": "f4c4c62d",
   "metadata": {
    "scrolled": true
   },
   "outputs": [
    {
     "name": "stderr",
     "output_type": "stream",
     "text": [
      "C:\\Users\\Jobin J\\Downloads\\Anaconda\\lib\\site-packages\\seaborn\\_decorators.py:36: FutureWarning: Pass the following variable as a keyword arg: x. From version 0.12, the only valid positional argument will be `data`, and passing other arguments without an explicit keyword will result in an error or misinterpretation.\n",
      "  warnings.warn(\n"
     ]
    },
    {
     "data": {
      "text/plain": [
       "Text(0.5, 0, 'Bookings Cancelled')"
      ]
     },
     "execution_count": 14,
     "metadata": {},
     "output_type": "execute_result"
    },
    {
     "data": {
      "image/png": "[encoded data removed]",
      "text/plain": [
       "<Figure size 432x288 with 1 Axes>"
      ]
     },
     "metadata": {},
     "output_type": "display_data"
    }
   ],
   "source": [
    "#Replace the 1s and 0s in the is_cancelled column to cancelled and not cancelled\n",
    "hotel['is_canceled'] = hotel.is_canceled.replace([1,0],[\"Cancelled\",\"Not Cancelled\"])\n",
    "cancelled_data = hotel['is_canceled']\n",
    "\n",
    "# Plotting\n",
    "sns.countplot(cancelled_data).set_title(\"Visualization of Cancellation\")\n",
    "plt.xlabel(\"Bookings Cancelled\")"
   ]
  },
  {
   "cell_type": "markdown",
   "id": "c29ac83e",
   "metadata": {},
   "source": [
    "From the graph above, We can see that more than 60% of the bookings were not cancelled."
   ]
  },
  {
   "cell_type": "markdown",
   "id": "b50b31d2",
   "metadata": {},
   "source": [
    "#### Cancellation rates in the two types of hotels"
   ]
  },
  {
   "cell_type": "code",
   "execution_count": 15,
   "id": "eecd5d34",
   "metadata": {},
   "outputs": [
    {
     "data": {
      "text/plain": [
       "Text(0.5, 1.0, 'Cancellation rates in city and resort hotel')"
      ]
     },
     "execution_count": 15,
     "metadata": {},
     "output_type": "execute_result"
    },
    {
     "data": {
      "image/png": "[encoded data removed]",
      "text/plain": [
       "<Figure size 432x288 with 1 Axes>"
      ]
     },
     "metadata": {},
     "output_type": "display_data"
    }
   ],
   "source": [
    "# Let's look into how much of bookings were cancelled in each type of hotel\n",
    "lst2 = ['is_canceled', 'hotel']\n",
    "type_of_hotel_canceled = hotel[lst2]\n",
    "canceled_hotel = type_of_hotel_canceled[type_of_hotel_canceled['is_canceled'] == 'Cancelled'].groupby(['hotel']).size().reset_index(name = 'count')\n",
    "canceled_hotel\n",
    "sns.barplot(data = canceled_hotel, x = 'hotel', y = 'count').set_title('Cancellation rates in city and resort hotel')"
   ]
  },
  {
   "cell_type": "markdown",
   "id": "9748da17",
   "metadata": {},
   "source": [
    "From the cancellation graph showing the hotel types, we can see that city hotels have three times more cancellations than resort hotels and that is because city hotels have more bookings as we have seen earlier."
   ]
  },
  {
   "cell_type": "markdown",
   "id": "3ac7c9d7",
   "metadata": {},
   "source": [
    "#### Who travels and in which group?"
   ]
  },
  {
   "cell_type": "code",
   "execution_count": 16,
   "id": "b6d052fb",
   "metadata": {},
   "outputs": [
    {
     "data": {
      "text/plain": [
       "[Text(0.5, 1.0, 'Number of children'),\n",
       " Text(551.7838235294118, 0.5, 'Total number'),\n",
       " Text(0.5, 21.5, 'Group size')]"
      ]
     },
     "execution_count": 16,
     "metadata": {},
     "output_type": "execute_result"
    },
    {
     "data": {
      "image/png": "[encoded data removed]",
      "text/plain": [
       "<Figure size 864x360 with 3 Axes>"
      ]
     },
     "metadata": {},
     "output_type": "display_data"
    }
   ],
   "source": [
    "hotel_num = hotel[[\"lead_time\",\"stays_in_weekend_nights\",\"stays_in_week_nights\",\"adults\",\"children\",\"babies\",\"previous_cancellations\",\"previous_bookings_not_canceled\",\"booking_changes\",\"days_in_waiting_list\",\"required_car_parking_spaces\",\"total_of_special_requests\"]]\n",
    "fig, ax = plt.subplots(1,3,figsize=(12,5))\n",
    "fig.tight_layout(pad=5.0)\n",
    "sns.countplot(x=hotel_num.adults, ax=ax[0], palette=\"crest\").set(title=\"Number of adults\", ylabel=\"Total number\", xlabel=\"Group size\")\n",
    "\n",
    "sns.countplot(x=hotel_num.babies, ax=ax[1], palette=\"crest\").set(title=\"Number of babies\", ylabel=\"Total number\", xlabel=\"Group size\")\n",
    "\n",
    "sns.countplot(x=hotel_num.children, ax=ax[2], palette=\"crest\").set(title=\"Number of children\", ylabel=\"Total number\", xlabel=\"Group size\")"
   ]
  },
  {
   "cell_type": "markdown",
   "id": "56c92854",
   "metadata": {},
   "source": [
    "From the graphs above, we can see that most reservations were made by adults without children or babies. Approximately 74% of adults travel with another adult, most likely the two adults are couples travel together. Travelling with babies or children is rare. From the graph \"Number of adults\" we can see that there is a column 0, this could be that the bookings were made by teenagers and young adults (below 18 years old), who travel alone or with friends/ spouse."
   ]
  },
  {
   "cell_type": "markdown",
   "id": "e98fde54",
   "metadata": {},
   "source": [
    "#### Lead time (the number of days from booking to arrival date), Booking changes"
   ]
  },
  {
   "cell_type": "code",
   "execution_count": 17,
   "id": "853cb158",
   "metadata": {
    "scrolled": false
   },
   "outputs": [
    {
     "data": {
      "text/plain": [
       "<seaborn.axisgrid.JointGrid at 0x1894e2e4490>"
      ]
     },
     "execution_count": 17,
     "metadata": {},
     "output_type": "execute_result"
    },
    {
     "data": {
      "image/png": "[encoded data removed]",
      "text/plain": [
       "<Figure size 576x360 with 2 Axes>"
      ]
     },
     "metadata": {},
     "output_type": "display_data"
    },
    {
     "data": {
      "image/png": "[encoded data removed]",
      "text/plain": [
       "<Figure size 432x432 with 3 Axes>"
      ]
     },
     "metadata": {},
     "output_type": "display_data"
    }
   ],
   "source": [
    "days_to_dep_list = []\n",
    "\n",
    "for days in hotel_num[\"lead_time\"]:\n",
    "    if days <= 100:\n",
    "        days_to_dep_list.append(days)\n",
    "\n",
    "fig, ax = plt.subplots(1,2, figsize=(8,5))\n",
    "fig.tight_layout(pad=3)\n",
    "    \n",
    "sns.histplot(hotel_num.lead_time, bins=50, color=\"olive\", ax=ax[0]).set(xlabel= \"Lead time\",title=\"                                                       Days from booking to check-in\")\n",
    "sns.histplot(days_to_dep_list, bins=30, color=\"olive\", ax=ax[1]).set(xlabel=\"Lead time\")\n",
    "sns.jointplot(x=hotel.lead_time, y=hotel.booking_changes, color=\"olive\")"
   ]
  },
  {
   "cell_type": "markdown",
   "id": "07df585e",
   "metadata": {},
   "source": [
    "From the graph above, we can see that It seems the longer people book in advance the less they are likely to change their original reservation."
   ]
  },
  {
   "cell_type": "markdown",
   "id": "a8a34420",
   "metadata": {},
   "source": [
    "#### Visualizing Correlations"
   ]
  },
  {
   "cell_type": "code",
   "execution_count": 18,
   "id": "04fca54c",
   "metadata": {},
   "outputs": [
    {
     "data": {
      "text/plain": [
       "<AxesSubplot:>"
      ]
     },
     "execution_count": 18,
     "metadata": {},
     "output_type": "execute_result"
    },
    {
     "data": {
      "image/png": "[encoded data removed]",
      "text/plain": [
       "<Figure size 1440x1080 with 2 Axes>"
      ]
     },
     "metadata": {},
     "output_type": "display_data"
    }
   ],
   "source": [
    "plt.figure(figsize=(20,15))\n",
    "\n",
    "corr= hotel.corr()\n",
    "matrix = np.triu(corr)\n",
    "sns.heatmap(corr, annot=True, mask=matrix)"
   ]
  },
  {
   "cell_type": "markdown",
   "id": "f79a4061",
   "metadata": {},
   "source": [
    "From the plots, We see lot of correlation among the following variables:\n",
    "\n",
    "1. stays_in_week_nights & stays_in_weekend_nights are highly positively correlated. \n",
    "2. Arrival_date_week_number & arrival_date_year are highly negatively correlated.\n",
    "3. Previous_booking_not_cancelled & Is_repeated_guest are highly positvely correlated.\n",
    "\n",
    "We would like to explore clustering the highly correlated variables."
   ]
  },
  {
   "cell_type": "markdown",
   "id": "bbba02df",
   "metadata": {},
   "source": [
    "#### Final Preprocessing Of Data"
   ]
  },
  {
   "cell_type": "code",
   "execution_count": 19,
   "id": "7c0c44e4",
   "metadata": {},
   "outputs": [],
   "source": [
    "#Converted arrival_date_month to a numerical variable\n",
    "hotel[\"arrival_date_month\"] = hotel[\"arrival_date_month\"].replace({\"January\":1,\"February\":2,\n",
    "                                                                  \"March\":3,\"April\":4,\n",
    "                                                                  \"May\":5,\"June\":6,\n",
    "                                                                  \"July\":7,\"August\":8,\n",
    "                                                                  \"September\":9,\"October\":10,\n",
    "                                                                  \"November\":11,\"December\":12})"
   ]
  },
  {
   "cell_type": "markdown",
   "id": "fbe14da4",
   "metadata": {},
   "source": [
    "**We removed the reservation_status and reservation_status_date because of multicolinearity with the response variable is_cancelled.**"
   ]
  },
  {
   "cell_type": "code",
   "execution_count": 20,
   "id": "34a4bbbd",
   "metadata": {},
   "outputs": [],
   "source": [
    "new_hotel = hotel.drop(columns=[\"reservation_status\",\"reservation_status_date\"])"
   ]
  },
  {
   "cell_type": "code",
   "execution_count": 21,
   "id": "56aa1804",
   "metadata": {},
   "outputs": [],
   "source": [
    "new_hotel['is_canceled']= new_hotel['is_canceled'].replace([\"Cancelled\",\"Not Cancelled\"],[1,0])"
   ]
  },
  {
   "cell_type": "code",
   "execution_count": 22,
   "id": "139aece1",
   "metadata": {},
   "outputs": [],
   "source": [
    "new_hotel.reset_index(inplace=True,drop=True)"
   ]
  },
  {
   "cell_type": "markdown",
   "id": "dc4ad8bd",
   "metadata": {},
   "source": [
    "**Final dataframe before one-hot encoding and scaling called: `new_hotel`**"
   ]
  },
  {
   "cell_type": "code",
   "execution_count": 23,
   "id": "6a382ab3",
   "metadata": {
    "scrolled": true
   },
   "outputs": [
    {
     "name": "stdout",
     "output_type": "stream",
     "text": [
      "<class 'pandas.core.frame.DataFrame'>\n",
      "RangeIndex: 102967 entries, 0 to 102966\n",
      "Data columns (total 28 columns):\n",
      " #   Column                          Non-Null Count   Dtype  \n",
      "---  ------                          --------------   -----  \n",
      " 0   hotel                           102967 non-null  object \n",
      " 1   is_canceled                     102967 non-null  int64  \n",
      " 2   lead_time                       102967 non-null  int64  \n",
      " 3   arrival_date_year               102967 non-null  int64  \n",
      " 4   arrival_date_month              102967 non-null  int64  \n",
      " 5   arrival_date_week_number        102967 non-null  int64  \n",
      " 6   arrival_date_day_of_month       102967 non-null  int64  \n",
      " 7   stays_in_weekend_nights         102967 non-null  int64  \n",
      " 8   stays_in_week_nights            102967 non-null  int64  \n",
      " 9   adults                          102967 non-null  int64  \n",
      " 10  children                        102967 non-null  float64\n",
      " 11  babies                          102967 non-null  int64  \n",
      " 12  meal                            102967 non-null  object \n",
      " 13  market_segment                  102967 non-null  object \n",
      " 14  distribution_channel            102967 non-null  object \n",
      " 15  is_repeated_guest               102967 non-null  int64  \n",
      " 16  previous_cancellations          102967 non-null  int64  \n",
      " 17  previous_bookings_not_canceled  102967 non-null  int64  \n",
      " 18  reserved_room_type              102967 non-null  object \n",
      " 19  assigned_room_type              102967 non-null  object \n",
      " 20  booking_changes                 102967 non-null  int64  \n",
      " 21  deposit_type                    102967 non-null  object \n",
      " 22  agent                           102967 non-null  float64\n",
      " 23  days_in_waiting_list            102967 non-null  int64  \n",
      " 24  customer_type                   102967 non-null  object \n",
      " 25  adr                             102967 non-null  float64\n",
      " 26  required_car_parking_spaces     102967 non-null  int64  \n",
      " 27  total_of_special_requests       102967 non-null  int64  \n",
      "dtypes: float64(3), int64(17), object(8)\n",
      "memory usage: 22.0+ MB\n"
     ]
    }
   ],
   "source": [
    "new_hotel.info()"
   ]
  },
  {
   "cell_type": "markdown",
   "id": "5838e5c1",
   "metadata": {},
   "source": [
    "#### Undersampling, One-Hot-Encoding and Standard Scaling our data"
   ]
  },
  {
   "cell_type": "code",
   "execution_count": 24,
   "id": "4ad92edb",
   "metadata": {},
   "outputs": [],
   "source": [
    "X = new_hotel.drop(\"is_canceled\",axis=1)\n",
    "y = new_hotel[\"is_canceled\"]"
   ]
  },
  {
   "cell_type": "markdown",
   "id": "510dab94",
   "metadata": {},
   "source": [
    "Before one-hot encoding, and standard scaling we wanted to balance our data and undersample. We did this so we can improve the runtime especially for clustering. We see that the runtime for these clustering algorithms is impacted by the size of the data. So reducing the number of instances per class reduces the number of distances that are need to be calculated. We wanted to be above the data requirement, so we chose 20,000 instances for each class with total to 40,000 observations for our train."
   ]
  },
  {
   "cell_type": "code",
   "execution_count": 25,
   "id": "b8ce02c3",
   "metadata": {},
   "outputs": [],
   "source": [
    "from imblearn.under_sampling import RandomUnderSampler\n",
    "\n",
    "us = RandomUnderSampler(sampling_strategy={0:20000,1:20000})\n",
    "X_us, y_us = us.fit_resample(X, y)"
   ]
  },
  {
   "cell_type": "code",
   "execution_count": 26,
   "id": "5e45cbcb",
   "metadata": {},
   "outputs": [
    {
     "data": {
      "text/html": [
       "<div>\n",
       "<style scoped>\n",
       "    .dataframe tbody tr th:only-of-type {\n",
       "        vertical-align: middle;\n",
       "    }\n",
       "\n",
       "    .dataframe tbody tr th {\n",
       "        vertical-align: top;\n",
       "    }\n",
       "\n",
       "    .dataframe thead th {\n",
       "        text-align: right;\n",
       "    }\n",
       "</style>\n",
       "<table border=\"1\" class=\"dataframe\">\n",
       "  <thead>\n",
       "    <tr style=\"text-align: right;\">\n",
       "      <th></th>\n",
       "      <th>hotel</th>\n",
       "      <th>lead_time</th>\n",
       "      <th>arrival_date_year</th>\n",
       "      <th>arrival_date_month</th>\n",
       "      <th>arrival_date_week_number</th>\n",
       "      <th>arrival_date_day_of_month</th>\n",
       "      <th>stays_in_weekend_nights</th>\n",
       "      <th>stays_in_week_nights</th>\n",
       "      <th>adults</th>\n",
       "      <th>children</th>\n",
       "      <th>...</th>\n",
       "      <th>reserved_room_type</th>\n",
       "      <th>assigned_room_type</th>\n",
       "      <th>booking_changes</th>\n",
       "      <th>deposit_type</th>\n",
       "      <th>agent</th>\n",
       "      <th>days_in_waiting_list</th>\n",
       "      <th>customer_type</th>\n",
       "      <th>adr</th>\n",
       "      <th>required_car_parking_spaces</th>\n",
       "      <th>total_of_special_requests</th>\n",
       "    </tr>\n",
       "  </thead>\n",
       "  <tbody>\n",
       "    <tr>\n",
       "      <th>0</th>\n",
       "      <td>City Hotel</td>\n",
       "      <td>137</td>\n",
       "      <td>2017</td>\n",
       "      <td>3</td>\n",
       "      <td>10</td>\n",
       "      <td>6</td>\n",
       "      <td>1</td>\n",
       "      <td>1</td>\n",
       "      <td>2</td>\n",
       "      <td>0.0</td>\n",
       "      <td>...</td>\n",
       "      <td>A</td>\n",
       "      <td>A</td>\n",
       "      <td>0</td>\n",
       "      <td>No Deposit</td>\n",
       "      <td>37.0</td>\n",
       "      <td>0</td>\n",
       "      <td>Transient-Party</td>\n",
       "      <td>80.00</td>\n",
       "      <td>0</td>\n",
       "      <td>1</td>\n",
       "    </tr>\n",
       "    <tr>\n",
       "      <th>1</th>\n",
       "      <td>Resort Hotel</td>\n",
       "      <td>176</td>\n",
       "      <td>2016</td>\n",
       "      <td>7</td>\n",
       "      <td>29</td>\n",
       "      <td>15</td>\n",
       "      <td>2</td>\n",
       "      <td>5</td>\n",
       "      <td>2</td>\n",
       "      <td>0.0</td>\n",
       "      <td>...</td>\n",
       "      <td>E</td>\n",
       "      <td>E</td>\n",
       "      <td>0</td>\n",
       "      <td>No Deposit</td>\n",
       "      <td>171.0</td>\n",
       "      <td>0</td>\n",
       "      <td>Transient</td>\n",
       "      <td>151.40</td>\n",
       "      <td>0</td>\n",
       "      <td>0</td>\n",
       "    </tr>\n",
       "    <tr>\n",
       "      <th>2</th>\n",
       "      <td>Resort Hotel</td>\n",
       "      <td>100</td>\n",
       "      <td>2017</td>\n",
       "      <td>4</td>\n",
       "      <td>17</td>\n",
       "      <td>29</td>\n",
       "      <td>2</td>\n",
       "      <td>1</td>\n",
       "      <td>2</td>\n",
       "      <td>0.0</td>\n",
       "      <td>...</td>\n",
       "      <td>D</td>\n",
       "      <td>D</td>\n",
       "      <td>0</td>\n",
       "      <td>No Deposit</td>\n",
       "      <td>385.0</td>\n",
       "      <td>0</td>\n",
       "      <td>Transient-Party</td>\n",
       "      <td>93.00</td>\n",
       "      <td>0</td>\n",
       "      <td>1</td>\n",
       "    </tr>\n",
       "    <tr>\n",
       "      <th>3</th>\n",
       "      <td>Resort Hotel</td>\n",
       "      <td>160</td>\n",
       "      <td>2016</td>\n",
       "      <td>12</td>\n",
       "      <td>52</td>\n",
       "      <td>24</td>\n",
       "      <td>2</td>\n",
       "      <td>5</td>\n",
       "      <td>3</td>\n",
       "      <td>1.0</td>\n",
       "      <td>...</td>\n",
       "      <td>H</td>\n",
       "      <td>H</td>\n",
       "      <td>0</td>\n",
       "      <td>No Deposit</td>\n",
       "      <td>250.0</td>\n",
       "      <td>0</td>\n",
       "      <td>Transient</td>\n",
       "      <td>92.19</td>\n",
       "      <td>0</td>\n",
       "      <td>0</td>\n",
       "    </tr>\n",
       "    <tr>\n",
       "      <th>4</th>\n",
       "      <td>City Hotel</td>\n",
       "      <td>33</td>\n",
       "      <td>2017</td>\n",
       "      <td>1</td>\n",
       "      <td>3</td>\n",
       "      <td>17</td>\n",
       "      <td>0</td>\n",
       "      <td>2</td>\n",
       "      <td>1</td>\n",
       "      <td>0.0</td>\n",
       "      <td>...</td>\n",
       "      <td>A</td>\n",
       "      <td>A</td>\n",
       "      <td>1</td>\n",
       "      <td>No Deposit</td>\n",
       "      <td>19.0</td>\n",
       "      <td>0</td>\n",
       "      <td>Transient-Party</td>\n",
       "      <td>75.00</td>\n",
       "      <td>0</td>\n",
       "      <td>0</td>\n",
       "    </tr>\n",
       "    <tr>\n",
       "      <th>...</th>\n",
       "      <td>...</td>\n",
       "      <td>...</td>\n",
       "      <td>...</td>\n",
       "      <td>...</td>\n",
       "      <td>...</td>\n",
       "      <td>...</td>\n",
       "      <td>...</td>\n",
       "      <td>...</td>\n",
       "      <td>...</td>\n",
       "      <td>...</td>\n",
       "      <td>...</td>\n",
       "      <td>...</td>\n",
       "      <td>...</td>\n",
       "      <td>...</td>\n",
       "      <td>...</td>\n",
       "      <td>...</td>\n",
       "      <td>...</td>\n",
       "      <td>...</td>\n",
       "      <td>...</td>\n",
       "      <td>...</td>\n",
       "      <td>...</td>\n",
       "    </tr>\n",
       "    <tr>\n",
       "      <th>39995</th>\n",
       "      <td>Resort Hotel</td>\n",
       "      <td>37</td>\n",
       "      <td>2016</td>\n",
       "      <td>4</td>\n",
       "      <td>18</td>\n",
       "      <td>29</td>\n",
       "      <td>2</td>\n",
       "      <td>5</td>\n",
       "      <td>2</td>\n",
       "      <td>0.0</td>\n",
       "      <td>...</td>\n",
       "      <td>A</td>\n",
       "      <td>A</td>\n",
       "      <td>0</td>\n",
       "      <td>Non Refund</td>\n",
       "      <td>71.0</td>\n",
       "      <td>0</td>\n",
       "      <td>Transient</td>\n",
       "      <td>46.00</td>\n",
       "      <td>0</td>\n",
       "      <td>0</td>\n",
       "    </tr>\n",
       "    <tr>\n",
       "      <th>39996</th>\n",
       "      <td>Resort Hotel</td>\n",
       "      <td>139</td>\n",
       "      <td>2016</td>\n",
       "      <td>6</td>\n",
       "      <td>23</td>\n",
       "      <td>2</td>\n",
       "      <td>2</td>\n",
       "      <td>7</td>\n",
       "      <td>2</td>\n",
       "      <td>2.0</td>\n",
       "      <td>...</td>\n",
       "      <td>G</td>\n",
       "      <td>G</td>\n",
       "      <td>0</td>\n",
       "      <td>No Deposit</td>\n",
       "      <td>240.0</td>\n",
       "      <td>0</td>\n",
       "      <td>Transient</td>\n",
       "      <td>137.89</td>\n",
       "      <td>0</td>\n",
       "      <td>0</td>\n",
       "    </tr>\n",
       "    <tr>\n",
       "      <th>39997</th>\n",
       "      <td>City Hotel</td>\n",
       "      <td>40</td>\n",
       "      <td>2015</td>\n",
       "      <td>8</td>\n",
       "      <td>33</td>\n",
       "      <td>15</td>\n",
       "      <td>2</td>\n",
       "      <td>2</td>\n",
       "      <td>2</td>\n",
       "      <td>0.0</td>\n",
       "      <td>...</td>\n",
       "      <td>A</td>\n",
       "      <td>A</td>\n",
       "      <td>0</td>\n",
       "      <td>No Deposit</td>\n",
       "      <td>1.0</td>\n",
       "      <td>0</td>\n",
       "      <td>Transient-Party</td>\n",
       "      <td>62.00</td>\n",
       "      <td>0</td>\n",
       "      <td>0</td>\n",
       "    </tr>\n",
       "    <tr>\n",
       "      <th>39998</th>\n",
       "      <td>City Hotel</td>\n",
       "      <td>117</td>\n",
       "      <td>2017</td>\n",
       "      <td>4</td>\n",
       "      <td>17</td>\n",
       "      <td>29</td>\n",
       "      <td>0</td>\n",
       "      <td>1</td>\n",
       "      <td>1</td>\n",
       "      <td>0.0</td>\n",
       "      <td>...</td>\n",
       "      <td>E</td>\n",
       "      <td>E</td>\n",
       "      <td>0</td>\n",
       "      <td>No Deposit</td>\n",
       "      <td>9.0</td>\n",
       "      <td>0</td>\n",
       "      <td>Transient</td>\n",
       "      <td>153.00</td>\n",
       "      <td>0</td>\n",
       "      <td>0</td>\n",
       "    </tr>\n",
       "    <tr>\n",
       "      <th>39999</th>\n",
       "      <td>Resort Hotel</td>\n",
       "      <td>26</td>\n",
       "      <td>2017</td>\n",
       "      <td>3</td>\n",
       "      <td>10</td>\n",
       "      <td>9</td>\n",
       "      <td>0</td>\n",
       "      <td>3</td>\n",
       "      <td>2</td>\n",
       "      <td>0.0</td>\n",
       "      <td>...</td>\n",
       "      <td>A</td>\n",
       "      <td>A</td>\n",
       "      <td>0</td>\n",
       "      <td>No Deposit</td>\n",
       "      <td>240.0</td>\n",
       "      <td>0</td>\n",
       "      <td>Transient</td>\n",
       "      <td>60.00</td>\n",
       "      <td>0</td>\n",
       "      <td>1</td>\n",
       "    </tr>\n",
       "  </tbody>\n",
       "</table>\n",
       "<p>40000 rows × 27 columns</p>\n",
       "</div>"
      ],
      "text/plain": [
       "              hotel  lead_time  arrival_date_year  arrival_date_month  \\\n",
       "0        City Hotel        137               2017                   3   \n",
       "1      Resort Hotel        176               2016                   7   \n",
       "2      Resort Hotel        100               2017                   4   \n",
       "3      Resort Hotel        160               2016                  12   \n",
       "4        City Hotel         33               2017                   1   \n",
       "...             ...        ...                ...                 ...   \n",
       "39995  Resort Hotel         37               2016                   4   \n",
       "39996  Resort Hotel        139               2016                   6   \n",
       "39997    City Hotel         40               2015                   8   \n",
       "39998    City Hotel        117               2017                   4   \n",
       "39999  Resort Hotel         26               2017                   3   \n",
       "\n",
       "       arrival_date_week_number  arrival_date_day_of_month  \\\n",
       "0                            10                          6   \n",
       "1                            29                         15   \n",
       "2                            17                         29   \n",
       "3                            52                         24   \n",
       "4                             3                         17   \n",
       "...                         ...                        ...   \n",
       "39995                        18                         29   \n",
       "39996                        23                          2   \n",
       "39997                        33                         15   \n",
       "39998                        17                         29   \n",
       "39999                        10                          9   \n",
       "\n",
       "       stays_in_weekend_nights  stays_in_week_nights  adults  children  ...  \\\n",
       "0                            1                     1       2       0.0  ...   \n",
       "1                            2                     5       2       0.0  ...   \n",
       "2                            2                     1       2       0.0  ...   \n",
       "3                            2                     5       3       1.0  ...   \n",
       "4                            0                     2       1       0.0  ...   \n",
       "...                        ...                   ...     ...       ...  ...   \n",
       "39995                        2                     5       2       0.0  ...   \n",
       "39996                        2                     7       2       2.0  ...   \n",
       "39997                        2                     2       2       0.0  ...   \n",
       "39998                        0                     1       1       0.0  ...   \n",
       "39999                        0                     3       2       0.0  ...   \n",
       "\n",
       "       reserved_room_type assigned_room_type booking_changes deposit_type  \\\n",
       "0                       A                  A               0   No Deposit   \n",
       "1                       E                  E               0   No Deposit   \n",
       "2                       D                  D               0   No Deposit   \n",
       "3                       H                  H               0   No Deposit   \n",
       "4                       A                  A               1   No Deposit   \n",
       "...                   ...                ...             ...          ...   \n",
       "39995                   A                  A               0   Non Refund   \n",
       "39996                   G                  G               0   No Deposit   \n",
       "39997                   A                  A               0   No Deposit   \n",
       "39998                   E                  E               0   No Deposit   \n",
       "39999                   A                  A               0   No Deposit   \n",
       "\n",
       "       agent  days_in_waiting_list    customer_type     adr  \\\n",
       "0       37.0                     0  Transient-Party   80.00   \n",
       "1      171.0                     0        Transient  151.40   \n",
       "2      385.0                     0  Transient-Party   93.00   \n",
       "3      250.0                     0        Transient   92.19   \n",
       "4       19.0                     0  Transient-Party   75.00   \n",
       "...      ...                   ...              ...     ...   \n",
       "39995   71.0                     0        Transient   46.00   \n",
       "39996  240.0                     0        Transient  137.89   \n",
       "39997    1.0                     0  Transient-Party   62.00   \n",
       "39998    9.0                     0        Transient  153.00   \n",
       "39999  240.0                     0        Transient   60.00   \n",
       "\n",
       "      required_car_parking_spaces  total_of_special_requests  \n",
       "0                               0                          1  \n",
       "1                               0                          0  \n",
       "2                               0                          1  \n",
       "3                               0                          0  \n",
       "4                               0                          0  \n",
       "...                           ...                        ...  \n",
       "39995                           0                          0  \n",
       "39996                           0                          0  \n",
       "39997                           0                          0  \n",
       "39998                           0                          0  \n",
       "39999                           0                          1  \n",
       "\n",
       "[40000 rows x 27 columns]"
      ]
     },
     "execution_count": 26,
     "metadata": {},
     "output_type": "execute_result"
    }
   ],
   "source": [
    "X_us"
   ]
  },
  {
   "cell_type": "code",
   "execution_count": 27,
   "id": "20a10980",
   "metadata": {},
   "outputs": [],
   "source": [
    "#One hot encode specific columns without standardizing and scaling continuous variables\n",
    "from sklearn.preprocessing import OneHotEncoder\n",
    "categorical_features = [\"hotel\", 'meal','market_segment','distribution_channel',\n",
    "                        'reserved_room_type', 'assigned_room_type', 'deposit_type','customer_type']\n",
    "\n",
    "ohe = OneHotEncoder(drop=\"first\")\n",
    "\n",
    "hotel_object = X_us.select_dtypes('object')\n",
    "ohe.fit(hotel_object)\n",
    "\n",
    "codes = ohe.transform(hotel_object).toarray()\n",
    "feature_names = ohe.get_feature_names(categorical_features)\n",
    "\n",
    "X_us = pd.concat([X_us.select_dtypes(exclude='object'), \n",
    "               pd.DataFrame(codes,columns=feature_names).astype(int)], axis=1)\n"
   ]
  },
  {
   "cell_type": "code",
   "execution_count": 28,
   "id": "6aa1aab9",
   "metadata": {
    "scrolled": true
   },
   "outputs": [
    {
     "data": {
      "text/html": [
       "<div>\n",
       "<style scoped>\n",
       "    .dataframe tbody tr th:only-of-type {\n",
       "        vertical-align: middle;\n",
       "    }\n",
       "\n",
       "    .dataframe tbody tr th {\n",
       "        vertical-align: top;\n",
       "    }\n",
       "\n",
       "    .dataframe thead th {\n",
       "        text-align: right;\n",
       "    }\n",
       "</style>\n",
       "<table border=\"1\" class=\"dataframe\">\n",
       "  <thead>\n",
       "    <tr style=\"text-align: right;\">\n",
       "      <th></th>\n",
       "      <th>lead_time</th>\n",
       "      <th>arrival_date_year</th>\n",
       "      <th>arrival_date_month</th>\n",
       "      <th>arrival_date_week_number</th>\n",
       "      <th>arrival_date_day_of_month</th>\n",
       "      <th>stays_in_weekend_nights</th>\n",
       "      <th>stays_in_week_nights</th>\n",
       "      <th>adults</th>\n",
       "      <th>children</th>\n",
       "      <th>babies</th>\n",
       "      <th>...</th>\n",
       "      <th>assigned_room_type_F</th>\n",
       "      <th>assigned_room_type_G</th>\n",
       "      <th>assigned_room_type_H</th>\n",
       "      <th>assigned_room_type_I</th>\n",
       "      <th>assigned_room_type_K</th>\n",
       "      <th>deposit_type_Non Refund</th>\n",
       "      <th>deposit_type_Refundable</th>\n",
       "      <th>customer_type_Group</th>\n",
       "      <th>customer_type_Transient</th>\n",
       "      <th>customer_type_Transient-Party</th>\n",
       "    </tr>\n",
       "  </thead>\n",
       "  <tbody>\n",
       "    <tr>\n",
       "      <th>0</th>\n",
       "      <td>137</td>\n",
       "      <td>2017</td>\n",
       "      <td>3</td>\n",
       "      <td>10</td>\n",
       "      <td>6</td>\n",
       "      <td>1</td>\n",
       "      <td>1</td>\n",
       "      <td>2</td>\n",
       "      <td>0.0</td>\n",
       "      <td>0</td>\n",
       "      <td>...</td>\n",
       "      <td>0</td>\n",
       "      <td>0</td>\n",
       "      <td>0</td>\n",
       "      <td>0</td>\n",
       "      <td>0</td>\n",
       "      <td>0</td>\n",
       "      <td>0</td>\n",
       "      <td>0</td>\n",
       "      <td>0</td>\n",
       "      <td>1</td>\n",
       "    </tr>\n",
       "    <tr>\n",
       "      <th>1</th>\n",
       "      <td>176</td>\n",
       "      <td>2016</td>\n",
       "      <td>7</td>\n",
       "      <td>29</td>\n",
       "      <td>15</td>\n",
       "      <td>2</td>\n",
       "      <td>5</td>\n",
       "      <td>2</td>\n",
       "      <td>0.0</td>\n",
       "      <td>0</td>\n",
       "      <td>...</td>\n",
       "      <td>0</td>\n",
       "      <td>0</td>\n",
       "      <td>0</td>\n",
       "      <td>0</td>\n",
       "      <td>0</td>\n",
       "      <td>0</td>\n",
       "      <td>0</td>\n",
       "      <td>0</td>\n",
       "      <td>1</td>\n",
       "      <td>0</td>\n",
       "    </tr>\n",
       "    <tr>\n",
       "      <th>2</th>\n",
       "      <td>100</td>\n",
       "      <td>2017</td>\n",
       "      <td>4</td>\n",
       "      <td>17</td>\n",
       "      <td>29</td>\n",
       "      <td>2</td>\n",
       "      <td>1</td>\n",
       "      <td>2</td>\n",
       "      <td>0.0</td>\n",
       "      <td>0</td>\n",
       "      <td>...</td>\n",
       "      <td>0</td>\n",
       "      <td>0</td>\n",
       "      <td>0</td>\n",
       "      <td>0</td>\n",
       "      <td>0</td>\n",
       "      <td>0</td>\n",
       "      <td>0</td>\n",
       "      <td>0</td>\n",
       "      <td>0</td>\n",
       "      <td>1</td>\n",
       "    </tr>\n",
       "    <tr>\n",
       "      <th>3</th>\n",
       "      <td>160</td>\n",
       "      <td>2016</td>\n",
       "      <td>12</td>\n",
       "      <td>52</td>\n",
       "      <td>24</td>\n",
       "      <td>2</td>\n",
       "      <td>5</td>\n",
       "      <td>3</td>\n",
       "      <td>1.0</td>\n",
       "      <td>0</td>\n",
       "      <td>...</td>\n",
       "      <td>0</td>\n",
       "      <td>0</td>\n",
       "      <td>1</td>\n",
       "      <td>0</td>\n",
       "      <td>0</td>\n",
       "      <td>0</td>\n",
       "      <td>0</td>\n",
       "      <td>0</td>\n",
       "      <td>1</td>\n",
       "      <td>0</td>\n",
       "    </tr>\n",
       "    <tr>\n",
       "      <th>4</th>\n",
       "      <td>33</td>\n",
       "      <td>2017</td>\n",
       "      <td>1</td>\n",
       "      <td>3</td>\n",
       "      <td>17</td>\n",
       "      <td>0</td>\n",
       "      <td>2</td>\n",
       "      <td>1</td>\n",
       "      <td>0.0</td>\n",
       "      <td>0</td>\n",
       "      <td>...</td>\n",
       "      <td>0</td>\n",
       "      <td>0</td>\n",
       "      <td>0</td>\n",
       "      <td>0</td>\n",
       "      <td>0</td>\n",
       "      <td>0</td>\n",
       "      <td>0</td>\n",
       "      <td>0</td>\n",
       "      <td>0</td>\n",
       "      <td>1</td>\n",
       "    </tr>\n",
       "    <tr>\n",
       "      <th>...</th>\n",
       "      <td>...</td>\n",
       "      <td>...</td>\n",
       "      <td>...</td>\n",
       "      <td>...</td>\n",
       "      <td>...</td>\n",
       "      <td>...</td>\n",
       "      <td>...</td>\n",
       "      <td>...</td>\n",
       "      <td>...</td>\n",
       "      <td>...</td>\n",
       "      <td>...</td>\n",
       "      <td>...</td>\n",
       "      <td>...</td>\n",
       "      <td>...</td>\n",
       "      <td>...</td>\n",
       "      <td>...</td>\n",
       "      <td>...</td>\n",
       "      <td>...</td>\n",
       "      <td>...</td>\n",
       "      <td>...</td>\n",
       "      <td>...</td>\n",
       "    </tr>\n",
       "    <tr>\n",
       "      <th>39995</th>\n",
       "      <td>37</td>\n",
       "      <td>2016</td>\n",
       "      <td>4</td>\n",
       "      <td>18</td>\n",
       "      <td>29</td>\n",
       "      <td>2</td>\n",
       "      <td>5</td>\n",
       "      <td>2</td>\n",
       "      <td>0.0</td>\n",
       "      <td>0</td>\n",
       "      <td>...</td>\n",
       "      <td>0</td>\n",
       "      <td>0</td>\n",
       "      <td>0</td>\n",
       "      <td>0</td>\n",
       "      <td>0</td>\n",
       "      <td>1</td>\n",
       "      <td>0</td>\n",
       "      <td>0</td>\n",
       "      <td>1</td>\n",
       "      <td>0</td>\n",
       "    </tr>\n",
       "    <tr>\n",
       "      <th>39996</th>\n",
       "      <td>139</td>\n",
       "      <td>2016</td>\n",
       "      <td>6</td>\n",
       "      <td>23</td>\n",
       "      <td>2</td>\n",
       "      <td>2</td>\n",
       "      <td>7</td>\n",
       "      <td>2</td>\n",
       "      <td>2.0</td>\n",
       "      <td>0</td>\n",
       "      <td>...</td>\n",
       "      <td>0</td>\n",
       "      <td>1</td>\n",
       "      <td>0</td>\n",
       "      <td>0</td>\n",
       "      <td>0</td>\n",
       "      <td>0</td>\n",
       "      <td>0</td>\n",
       "      <td>0</td>\n",
       "      <td>1</td>\n",
       "      <td>0</td>\n",
       "    </tr>\n",
       "    <tr>\n",
       "      <th>39997</th>\n",
       "      <td>40</td>\n",
       "      <td>2015</td>\n",
       "      <td>8</td>\n",
       "      <td>33</td>\n",
       "      <td>15</td>\n",
       "      <td>2</td>\n",
       "      <td>2</td>\n",
       "      <td>2</td>\n",
       "      <td>0.0</td>\n",
       "      <td>0</td>\n",
       "      <td>...</td>\n",
       "      <td>0</td>\n",
       "      <td>0</td>\n",
       "      <td>0</td>\n",
       "      <td>0</td>\n",
       "      <td>0</td>\n",
       "      <td>0</td>\n",
       "      <td>0</td>\n",
       "      <td>0</td>\n",
       "      <td>0</td>\n",
       "      <td>1</td>\n",
       "    </tr>\n",
       "    <tr>\n",
       "      <th>39998</th>\n",
       "      <td>117</td>\n",
       "      <td>2017</td>\n",
       "      <td>4</td>\n",
       "      <td>17</td>\n",
       "      <td>29</td>\n",
       "      <td>0</td>\n",
       "      <td>1</td>\n",
       "      <td>1</td>\n",
       "      <td>0.0</td>\n",
       "      <td>0</td>\n",
       "      <td>...</td>\n",
       "      <td>0</td>\n",
       "      <td>0</td>\n",
       "      <td>0</td>\n",
       "      <td>0</td>\n",
       "      <td>0</td>\n",
       "      <td>0</td>\n",
       "      <td>0</td>\n",
       "      <td>0</td>\n",
       "      <td>1</td>\n",
       "      <td>0</td>\n",
       "    </tr>\n",
       "    <tr>\n",
       "      <th>39999</th>\n",
       "      <td>26</td>\n",
       "      <td>2017</td>\n",
       "      <td>3</td>\n",
       "      <td>10</td>\n",
       "      <td>9</td>\n",
       "      <td>0</td>\n",
       "      <td>3</td>\n",
       "      <td>2</td>\n",
       "      <td>0.0</td>\n",
       "      <td>0</td>\n",
       "      <td>...</td>\n",
       "      <td>0</td>\n",
       "      <td>0</td>\n",
       "      <td>0</td>\n",
       "      <td>0</td>\n",
       "      <td>0</td>\n",
       "      <td>0</td>\n",
       "      <td>0</td>\n",
       "      <td>0</td>\n",
       "      <td>1</td>\n",
       "      <td>0</td>\n",
       "    </tr>\n",
       "  </tbody>\n",
       "</table>\n",
       "<p>40000 rows × 54 columns</p>\n",
       "</div>"
      ],
      "text/plain": [
       "       lead_time  arrival_date_year  arrival_date_month  \\\n",
       "0            137               2017                   3   \n",
       "1            176               2016                   7   \n",
       "2            100               2017                   4   \n",
       "3            160               2016                  12   \n",
       "4             33               2017                   1   \n",
       "...          ...                ...                 ...   \n",
       "39995         37               2016                   4   \n",
       "39996        139               2016                   6   \n",
       "39997         40               2015                   8   \n",
       "39998        117               2017                   4   \n",
       "39999         26               2017                   3   \n",
       "\n",
       "       arrival_date_week_number  arrival_date_day_of_month  \\\n",
       "0                            10                          6   \n",
       "1                            29                         15   \n",
       "2                            17                         29   \n",
       "3                            52                         24   \n",
       "4                             3                         17   \n",
       "...                         ...                        ...   \n",
       "39995                        18                         29   \n",
       "39996                        23                          2   \n",
       "39997                        33                         15   \n",
       "39998                        17                         29   \n",
       "39999                        10                          9   \n",
       "\n",
       "       stays_in_weekend_nights  stays_in_week_nights  adults  children  \\\n",
       "0                            1                     1       2       0.0   \n",
       "1                            2                     5       2       0.0   \n",
       "2                            2                     1       2       0.0   \n",
       "3                            2                     5       3       1.0   \n",
       "4                            0                     2       1       0.0   \n",
       "...                        ...                   ...     ...       ...   \n",
       "39995                        2                     5       2       0.0   \n",
       "39996                        2                     7       2       2.0   \n",
       "39997                        2                     2       2       0.0   \n",
       "39998                        0                     1       1       0.0   \n",
       "39999                        0                     3       2       0.0   \n",
       "\n",
       "       babies  ...  assigned_room_type_F  assigned_room_type_G  \\\n",
       "0           0  ...                     0                     0   \n",
       "1           0  ...                     0                     0   \n",
       "2           0  ...                     0                     0   \n",
       "3           0  ...                     0                     0   \n",
       "4           0  ...                     0                     0   \n",
       "...       ...  ...                   ...                   ...   \n",
       "39995       0  ...                     0                     0   \n",
       "39996       0  ...                     0                     1   \n",
       "39997       0  ...                     0                     0   \n",
       "39998       0  ...                     0                     0   \n",
       "39999       0  ...                     0                     0   \n",
       "\n",
       "       assigned_room_type_H  assigned_room_type_I  assigned_room_type_K  \\\n",
       "0                         0                     0                     0   \n",
       "1                         0                     0                     0   \n",
       "2                         0                     0                     0   \n",
       "3                         1                     0                     0   \n",
       "4                         0                     0                     0   \n",
       "...                     ...                   ...                   ...   \n",
       "39995                     0                     0                     0   \n",
       "39996                     0                     0                     0   \n",
       "39997                     0                     0                     0   \n",
       "39998                     0                     0                     0   \n",
       "39999                     0                     0                     0   \n",
       "\n",
       "       deposit_type_Non Refund  deposit_type_Refundable  customer_type_Group  \\\n",
       "0                            0                        0                    0   \n",
       "1                            0                        0                    0   \n",
       "2                            0                        0                    0   \n",
       "3                            0                        0                    0   \n",
       "4                            0                        0                    0   \n",
       "...                        ...                      ...                  ...   \n",
       "39995                        1                        0                    0   \n",
       "39996                        0                        0                    0   \n",
       "39997                        0                        0                    0   \n",
       "39998                        0                        0                    0   \n",
       "39999                        0                        0                    0   \n",
       "\n",
       "       customer_type_Transient  customer_type_Transient-Party  \n",
       "0                            0                              1  \n",
       "1                            1                              0  \n",
       "2                            0                              1  \n",
       "3                            1                              0  \n",
       "4                            0                              1  \n",
       "...                        ...                            ...  \n",
       "39995                        1                              0  \n",
       "39996                        1                              0  \n",
       "39997                        0                              1  \n",
       "39998                        1                              0  \n",
       "39999                        1                              0  \n",
       "\n",
       "[40000 rows x 54 columns]"
      ]
     },
     "execution_count": 28,
     "metadata": {},
     "output_type": "execute_result"
    }
   ],
   "source": [
    "X_us"
   ]
  },
  {
   "cell_type": "code",
   "execution_count": 29,
   "id": "6e52a715",
   "metadata": {},
   "outputs": [
    {
     "data": {
      "text/plain": [
       "0        0\n",
       "1        0\n",
       "2        0\n",
       "3        0\n",
       "4        0\n",
       "        ..\n",
       "39995    1\n",
       "39996    1\n",
       "39997    1\n",
       "39998    1\n",
       "39999    1\n",
       "Name: is_canceled, Length: 40000, dtype: int64"
      ]
     },
     "execution_count": 29,
     "metadata": {},
     "output_type": "execute_result"
    }
   ],
   "source": [
    "y_us"
   ]
  },
  {
   "cell_type": "markdown",
   "id": "a1387e31",
   "metadata": {},
   "source": [
    "### Standard Scaling All Continuous Variables"
   ]
  },
  {
   "cell_type": "code",
   "execution_count": 30,
   "id": "5988cede",
   "metadata": {},
   "outputs": [],
   "source": [
    "from sklearn.preprocessing import OneHotEncoder, StandardScaler\n",
    "continuous_variables = ['lead_time',\"arrival_date_month\",'arrival_date_year','arrival_date_week_number','arrival_date_day_of_month',\n",
    "                        'stays_in_weekend_nights','stays_in_week_nights','adults','children','babies',\n",
    "                        'is_repeated_guest','previous_cancellations','previous_bookings_not_canceled',\n",
    "                        'booking_changes','agent','days_in_waiting_list','adr','required_car_parking_spaces',\n",
    "                        'total_of_special_requests']\n",
    "stdsclr = StandardScaler()\n",
    "\n",
    "X_us[continuous_variables] = stdsclr.fit_transform(X_us[continuous_variables])"
   ]
  },
  {
   "cell_type": "code",
   "execution_count": 31,
   "id": "e7373c4a",
   "metadata": {
    "scrolled": true
   },
   "outputs": [
    {
     "data": {
      "text/plain": [
       "Index(['lead_time', 'arrival_date_year', 'arrival_date_month',\n",
       "       'arrival_date_week_number', 'arrival_date_day_of_month',\n",
       "       'stays_in_weekend_nights', 'stays_in_week_nights', 'adults', 'children',\n",
       "       'babies', 'is_repeated_guest', 'previous_cancellations',\n",
       "       'previous_bookings_not_canceled', 'booking_changes', 'agent',\n",
       "       'days_in_waiting_list', 'adr', 'required_car_parking_spaces',\n",
       "       'total_of_special_requests', 'hotel_Resort Hotel', 'meal_FB', 'meal_HB',\n",
       "       'meal_SC', 'meal_Undefined', 'market_segment_Complementary',\n",
       "       'market_segment_Corporate', 'market_segment_Direct',\n",
       "       'market_segment_Groups', 'market_segment_Offline TA/TO',\n",
       "       'market_segment_Online TA', 'distribution_channel_Direct',\n",
       "       'distribution_channel_GDS', 'distribution_channel_TA/TO',\n",
       "       'reserved_room_type_B', 'reserved_room_type_C', 'reserved_room_type_D',\n",
       "       'reserved_room_type_E', 'reserved_room_type_F', 'reserved_room_type_G',\n",
       "       'reserved_room_type_H', 'assigned_room_type_B', 'assigned_room_type_C',\n",
       "       'assigned_room_type_D', 'assigned_room_type_E', 'assigned_room_type_F',\n",
       "       'assigned_room_type_G', 'assigned_room_type_H', 'assigned_room_type_I',\n",
       "       'assigned_room_type_K', 'deposit_type_Non Refund',\n",
       "       'deposit_type_Refundable', 'customer_type_Group',\n",
       "       'customer_type_Transient', 'customer_type_Transient-Party'],\n",
       "      dtype='object')"
      ]
     },
     "execution_count": 31,
     "metadata": {},
     "output_type": "execute_result"
    }
   ],
   "source": [
    "X_us.columns"
   ]
  },
  {
   "cell_type": "markdown",
   "id": "4118cefb",
   "metadata": {},
   "source": [
    "# Modeling and Evaluation 1\n"
   ]
  },
  {
   "cell_type": "markdown",
   "id": "a266c9e9",
   "metadata": {},
   "source": [
    "For the purpose of this lab, we have used 3 fold cross validation with a train / test split of 90%/10%. With the help of the helper function, we can get the mean accuracy, precision and recall for each fold."
   ]
  },
  {
   "cell_type": "code",
   "execution_count": 32,
   "id": "b85e445f",
   "metadata": {},
   "outputs": [],
   "source": [
    "from sklearn.model_selection import StratifiedShuffleSplit\n",
    "cv = StratifiedShuffleSplit(n_splits=3, test_size=0.10, random_state=0)"
   ]
  },
  {
   "cell_type": "code",
   "execution_count": 33,
   "id": "05e2f5a4",
   "metadata": {},
   "outputs": [],
   "source": [
    "from sklearn.model_selection import cross_validate\n",
    "\n",
    "def EvaluateClassifierEstimator(classifierEstimator, X, y, cv):\n",
    "   \n",
    "    #Perform cross validation \n",
    "    scores = cross_validate(classifierEstimator, X, y, scoring=['accuracy','precision','recall']\n",
    "                            , cv=cv, return_train_score=True)\n",
    "\n",
    "    Accavg = scores['test_accuracy'].mean()\n",
    "    Preavg = scores['test_precision'].mean()\n",
    "    Recavg = scores['test_recall'].mean()\n",
    "\n",
    "    print_str = \"The average accuracy for all cv folds is: \\t\\t\\t {Accavg:.5}\"\n",
    "    print_str2 = \"The average precision for all cv folds is: \\t\\t\\t {Preavg:.5}\"\n",
    "    print_str3 = \"The average recall for all cv folds is: \\t\\t\\t {Recavg:.5}\"\n",
    "\n",
    "    print(print_str.format(Accavg=Accavg))\n",
    "    print(print_str2.format(Preavg=Preavg))\n",
    "    print(print_str3.format(Recavg=Recavg))\n",
    "    print('*********************************************************')\n",
    "\n",
    "    print('Cross Validation Fold Mean Error Scores')\n",
    "    scoresResults = pd.DataFrame()\n",
    "    scoresResults['Accuracy'] = scores['test_accuracy']\n",
    "    scoresResults['Precision'] = scores['test_precision']\n",
    "    scoresResults['Recall'] = scores['test_recall']\n",
    "\n",
    "    return scoresResults"
   ]
  },
  {
   "cell_type": "markdown",
   "id": "298f0dd0",
   "metadata": {},
   "source": [
    "Our base model is a logistic regression model that yielded a mean accuracy of 76.733%. We would like to use clustering to try to improve the overall accuracy and lower the standard deviation of the accuracy."
   ]
  },
  {
   "cell_type": "code",
   "execution_count": 34,
   "id": "621bd4ef",
   "metadata": {
    "scrolled": true
   },
   "outputs": [
    {
     "name": "stdout",
     "output_type": "stream",
     "text": [
      "The average accuracy for all cv folds is: \t\t\t 0.7715\n",
      "The average precision for all cv folds is: \t\t\t 0.79565\n",
      "The average recall for all cv folds is: \t\t\t 0.73067\n",
      "*********************************************************\n",
      "Cross Validation Fold Mean Error Scores\n",
      "Wall time: 1.44 s\n"
     ]
    },
    {
     "data": {
      "text/html": [
       "<div>\n",
       "<style scoped>\n",
       "    .dataframe tbody tr th:only-of-type {\n",
       "        vertical-align: middle;\n",
       "    }\n",
       "\n",
       "    .dataframe tbody tr th {\n",
       "        vertical-align: top;\n",
       "    }\n",
       "\n",
       "    .dataframe thead th {\n",
       "        text-align: right;\n",
       "    }\n",
       "</style>\n",
       "<table border=\"1\" class=\"dataframe\">\n",
       "  <thead>\n",
       "    <tr style=\"text-align: right;\">\n",
       "      <th></th>\n",
       "      <th>Accuracy</th>\n",
       "      <th>Precision</th>\n",
       "      <th>Recall</th>\n",
       "    </tr>\n",
       "  </thead>\n",
       "  <tbody>\n",
       "    <tr>\n",
       "      <th>0</th>\n",
       "      <td>0.77250</td>\n",
       "      <td>0.797814</td>\n",
       "      <td>0.730</td>\n",
       "    </tr>\n",
       "    <tr>\n",
       "      <th>1</th>\n",
       "      <td>0.77275</td>\n",
       "      <td>0.796306</td>\n",
       "      <td>0.733</td>\n",
       "    </tr>\n",
       "    <tr>\n",
       "      <th>2</th>\n",
       "      <td>0.76925</td>\n",
       "      <td>0.792822</td>\n",
       "      <td>0.729</td>\n",
       "    </tr>\n",
       "  </tbody>\n",
       "</table>\n",
       "</div>"
      ],
      "text/plain": [
       "   Accuracy  Precision  Recall\n",
       "0   0.77250   0.797814   0.730\n",
       "1   0.77275   0.796306   0.733\n",
       "2   0.76925   0.792822   0.729"
      ]
     },
     "execution_count": 34,
     "metadata": {},
     "output_type": "execute_result"
    }
   ],
   "source": [
    "%%time\n",
    "from sklearn.linear_model import LogisticRegression\n",
    "\n",
    "clf = LogisticRegression(max_iter=10000, random_state=0)\n",
    "\n",
    "EvaluateClassifierEstimator(clf, X_us, y_us, cv)"
   ]
  },
  {
   "cell_type": "markdown",
   "id": "be86bbc6",
   "metadata": {},
   "source": [
    "#### Clustering Our Data:\n",
    "We decided to test 3 groups of variables for clustering. We wanted to compare the results between them to see if the accuracy has improved by clustering these specific predictors. So we have:\n",
    "\n",
    "- X1: `stays_in_week_nights`, and `stays_in_weekend_nights`\n",
    "- X2: `is_repeated_guest` and `previous_bookings_not_canceled`\n",
    "- X3: `adr`,`stays_in_week_nights`, `adults`, `children`,`babies`, and `stays_in_weekend_nights`\n"
   ]
  },
  {
   "cell_type": "code",
   "execution_count": 35,
   "id": "be3666a6",
   "metadata": {},
   "outputs": [],
   "source": [
    "X1 = X_us[['stays_in_week_nights','stays_in_weekend_nights']]\n",
    "X2 = X_us[['is_repeated_guest','previous_bookings_not_canceled']]\n",
    "X3 = X_us[['adr','stays_in_week_nights', 'adults', 'children','babies','stays_in_weekend_nights']]"
   ]
  },
  {
   "cell_type": "markdown",
   "id": "36d45a36",
   "metadata": {},
   "source": [
    "### K-Means Clustering - X1"
   ]
  },
  {
   "cell_type": "code",
   "execution_count": 36,
   "id": "f7aff785",
   "metadata": {
    "scrolled": true
   },
   "outputs": [
    {
     "name": "stdout",
     "output_type": "stream",
     "text": [
      " For 3 Clusters. The average accuracy =  77.075 +- 0.3265986323710907\n",
      " For 4 Clusters. The average accuracy =  77.14166666666668 +- 0.3274480450731422\n",
      " For 5 Clusters. The average accuracy =  77.12500000000001 +- 0.34880749227427066\n",
      " For 6 Clusters. The average accuracy =  77.14166666666667 +- 0.2656229575084897\n",
      " For 7 Clusters. The average accuracy =  77.20833333333333 +- 0.34298526045428174\n",
      " For 8 Clusters. The average accuracy =  77.12500000000001 +- 0.244948974278318\n",
      " For 9 Clusters. The average accuracy =  77.23333333333335 +- 0.2552232138518917\n",
      " For 10 Clusters. The average accuracy =  76.99166666666667 +- 0.23481671339342416\n",
      " For 11 Clusters. The average accuracy =  77.14166666666667 +- 0.2786375582883451\n",
      " For 12 Clusters. The average accuracy =  77.10000000000001 +- 0.27613402542968296\n",
      " For 13 Clusters. The average accuracy =  77.075 +- 0.244948974278318\n",
      " For 14 Clusters. The average accuracy =  77.16666666666666 +- 0.2294316649656058\n",
      " For 15 Clusters. The average accuracy =  77.18333333333334 +- 0.26640612271909453\n",
      " For 16 Clusters. The average accuracy =  77.025 +- 0.18708286933869922\n",
      " For 17 Clusters. The average accuracy =  77.03333333333333 +- 0.286016705028843\n",
      " For 18 Clusters. The average accuracy =  76.99166666666666 +- 0.26951602714660183\n",
      " For 19 Clusters. The average accuracy =  77.03333333333333 +- 0.2064918615560626\n",
      "Wall time: 32 s\n"
     ]
    }
   ],
   "source": [
    "%%time\n",
    "from sklearn.cluster import KMeans\n",
    "from sklearn.model_selection import cross_val_score\n",
    "import numpy as np\n",
    "\n",
    "params = []\n",
    "inertias = []\n",
    "\n",
    "for n in range(3,20):\n",
    "    cls1_kmeans = KMeans(n_clusters=n, init='k-means++', random_state=0)\n",
    "    cls1_kmeans.fit(X1)\n",
    "    \n",
    "    newfeature = cls1_kmeans.labels_ # the labels from kmeans clustering\n",
    "    inertias.append(cls1_kmeans.inertia_)\n",
    "    original_X = X_us.drop(['stays_in_week_nights','stays_in_weekend_nights'], axis=1)\n",
    "    X_final = np.column_stack((original_X,pd.get_dummies(newfeature)))\n",
    "    \n",
    "    \n",
    "    acc = cross_val_score(clf,X_final,y=y_us,cv=cv)\n",
    "    params.append((n,acc.mean()*100,acc.std()*100))\n",
    "    \n",
    "    print (\" For\", n, \"Clusters.\", \"The average accuracy = \", acc.mean()*100, \"+-\", acc.std()*100)"
   ]
  },
  {
   "cell_type": "markdown",
   "id": "4d31fc9f",
   "metadata": {},
   "source": [
    "### K-Means Clustering - X2"
   ]
  },
  {
   "cell_type": "code",
   "execution_count": 37,
   "id": "d5d82487",
   "metadata": {},
   "outputs": [
    {
     "name": "stdout",
     "output_type": "stream",
     "text": [
      " For 3 Clusters. The average accuracy =  77.19166666666666 +- 0.08249579113842669\n",
      " For 4 Clusters. The average accuracy =  77.18333333333334 +- 0.09428090415820642\n",
      " For 5 Clusters. The average accuracy =  77.18333333333334 +- 0.09428090415820642\n",
      " For 6 Clusters. The average accuracy =  77.25 +- 0.07071067811865743\n",
      " For 7 Clusters. The average accuracy =  77.25 +- 0.07071067811865743\n",
      " For 8 Clusters. The average accuracy =  77.25 +- 0.07071067811865743\n",
      " For 9 Clusters. The average accuracy =  77.25 +- 0.07071067811865743\n",
      " For 10 Clusters. The average accuracy =  77.25 +- 0.07071067811865743\n",
      " For 11 Clusters. The average accuracy =  77.24166666666666 +- 0.06561673228343487\n",
      " For 12 Clusters. The average accuracy =  77.24166666666666 +- 0.06561673228343487\n",
      " For 13 Clusters. The average accuracy =  77.25 +- 0.07071067811865743\n",
      " For 14 Clusters. The average accuracy =  77.24166666666666 +- 0.06561673228343487\n",
      " For 15 Clusters. The average accuracy =  77.25 +- 0.07071067811865743\n",
      " For 16 Clusters. The average accuracy =  77.24166666666666 +- 0.06561673228343487\n",
      " For 17 Clusters. The average accuracy =  77.24166666666666 +- 0.06561673228343487\n",
      " For 18 Clusters. The average accuracy =  77.25 +- 0.07071067811865743\n",
      " For 19 Clusters. The average accuracy =  77.25 +- 0.07071067811865743\n",
      "Wall time: 41.9 s\n"
     ]
    }
   ],
   "source": [
    "%%time\n",
    "from sklearn.cluster import KMeans\n",
    "from sklearn.model_selection import cross_val_score\n",
    "import numpy as np\n",
    "\n",
    "params = []\n",
    "for n in range(3,20):\n",
    "\n",
    "    X2 = X_us[['is_repeated_guest','previous_bookings_not_canceled']]\n",
    "\n",
    "    cls2_knn = KMeans(n_clusters=n, init='k-means++',random_state=0)\n",
    "    cls2_knn.fit(X2)\n",
    "    \n",
    "    newfeature = cls2_knn.labels_ # the labels from kmeans clustering\n",
    "    \n",
    "    original_X = X_us.drop(['arrival_date_week_number','arrival_date_year'], axis=1)\n",
    "    X_final = np.column_stack((original_X,pd.get_dummies(newfeature)))\n",
    "    \n",
    "    acc = cross_val_score(clf,X_final,y=y_us,cv=cv)\n",
    "    params.append((n,acc.mean()*100,acc.std()*100))\n",
    "    \n",
    "    print (\" For\", n, \"Clusters.\", \"The average accuracy = \", acc.mean()*100, \"+-\", acc.std()*100)\n"
   ]
  },
  {
   "cell_type": "markdown",
   "id": "d9a0cb1d",
   "metadata": {},
   "source": [
    "### K-Means Clustering - X3"
   ]
  },
  {
   "cell_type": "code",
   "execution_count": 38,
   "id": "bd77c7d6",
   "metadata": {},
   "outputs": [
    {
     "name": "stdout",
     "output_type": "stream",
     "text": [
      " For 3 Clusters. The average accuracy =  77.05000000000001 +- 0.05400617248673136\n",
      " For 4 Clusters. The average accuracy =  77.18333333333334 +- 0.07728015412912755\n",
      " For 5 Clusters. The average accuracy =  77.15 +- 0.04082482904638634\n",
      " For 6 Clusters. The average accuracy =  77.09166666666665 +- 0.11242281302693172\n",
      " For 7 Clusters. The average accuracy =  77.19999999999999 +- 0.14719601443880012\n",
      " For 8 Clusters. The average accuracy =  77.19166666666666 +- 0.14766704288891067\n",
      " For 9 Clusters. The average accuracy =  77.16666666666669 +- 0.18521758975744299\n",
      " For 10 Clusters. The average accuracy =  77.10000000000001 +- 0.16329931618554536\n",
      " For 11 Clusters. The average accuracy =  77.14999999999999 +- 0.25083194905487505\n",
      " For 12 Clusters. The average accuracy =  77.30833333333335 +- 0.14481789330819167\n",
      " For 13 Clusters. The average accuracy =  77.3 +- 0.05400617248673136\n",
      " For 14 Clusters. The average accuracy =  77.16666666666666 +- 0.2656229575084897\n",
      " For 15 Clusters. The average accuracy =  77.19999999999999 +- 0.17440374613713508\n",
      " For 16 Clusters. The average accuracy =  77.21666666666667 +- 0.05137011669141149\n",
      " For 17 Clusters. The average accuracy =  77.15833333333335 +- 0.08249579113843117\n",
      " For 18 Clusters. The average accuracy =  77.25 +- 0.16708281379802895\n",
      " For 19 Clusters. The average accuracy =  77.26666666666667 +- 0.16624947786050043\n"
     ]
    }
   ],
   "source": [
    "from sklearn import metrics\n",
    "from scipy.spatial.distance import cdist\n",
    "import matplotlib.pyplot as plt\n",
    "\n",
    "params = []\n",
    "distortions = []\n",
    "inertias = []\n",
    "\n",
    "for n in range(3,20):\n",
    "\n",
    "    X3 = X_us[['adr','stays_in_week_nights', 'adults', 'children','babies','stays_in_weekend_nights']]\n",
    "\n",
    "    cls3_knn = KMeans(n_clusters=n, init='k-means++',random_state=0)\n",
    "    cls3_knn.fit(X3)\n",
    "    newfeature_1 = cls3_knn.labels_ # the labels from kmeans clustering\n",
    "    distortions.append(sum(np.min(cdist(X3, cls3_knn.cluster_centers_, 'euclidean'), axis=1)) / X3.shape[0])\n",
    "    inertias.append(cls3_knn.inertia_)\n",
    "    \n",
    "    original_X = X_us.drop(['is_repeated_guest','previous_bookings_not_canceled'], axis=1)\n",
    "    final_X = np.column_stack((original_X,pd.get_dummies(newfeature_1)))\n",
    "\n",
    "    acc = cross_val_score(clf,final_X,y=y_us,cv=cv)\n",
    "    params.append((n,acc.mean()*100,acc.std()*100))\n",
    "    \n",
    "    print (\" For\", n, \"Clusters.\", \"The average accuracy = \", acc.mean()*100, \"+-\", acc.std()*100)"
   ]
  },
  {
   "cell_type": "markdown",
   "id": "e7bd3d10",
   "metadata": {},
   "source": [
    "#### K Means X1\n",
    "Looping through n_clusters from 3 to 19:\n",
    "- Our best accuracy (with lowest standard deviation) for **14 Clusters** is 76.81666666666666 +- 0.6678115169883041."
   ]
  },
  {
   "cell_type": "markdown",
   "id": "f96e8a70",
   "metadata": {},
   "source": [
    "#### K Means X2\n",
    "Looping through n_clusters from 3 to 19:\n",
    "- Our best accuracy (with lowest standard deviation) for **3 Clusters** is 76.63333333333333 +- 0.7450764315752392."
   ]
  },
  {
   "cell_type": "markdown",
   "id": "b45ccfc1",
   "metadata": {},
   "source": [
    "#### K Means X3\n",
    "Looping through n_clusters from 3 to 19:\n",
    "- Our best accuracy (with lowest standard deviation) for **17 Clusters** is 76.76666666666667 +- 0.6995037923811088."
   ]
  },
  {
   "cell_type": "markdown",
   "id": "79d6b1ee",
   "metadata": {},
   "source": [
    "###  Inertia vs. K Plot for X1:\n",
    "\n",
    "Looking above, the clustering for **X1** yielded the best accuracy and lowest standard deviation of X1, X2 and X3. So we will look at the "
   ]
  },
  {
   "cell_type": "code",
   "execution_count": 39,
   "id": "c51d101f",
   "metadata": {
    "scrolled": false
   },
   "outputs": [
    {
     "ename": "NameError",
     "evalue": "name 'n_shape' is not defined",
     "output_type": "error",
     "traceback": [
      "\u001b[1;31m---------------------------------------------------------------------------\u001b[0m",
      "\u001b[1;31mNameError\u001b[0m                                 Traceback (most recent call last)",
      "\u001b[1;32m<ipython-input-39-ab3ba1701aca>\u001b[0m in \u001b[0;36m<module>\u001b[1;34m\u001b[0m\n\u001b[1;32m----> 1\u001b[1;33m \u001b[0mplt\u001b[0m\u001b[1;33m.\u001b[0m\u001b[0mplot\u001b[0m\u001b[1;33m(\u001b[0m\u001b[0mn_shape\u001b[0m\u001b[1;33m,\u001b[0m \u001b[0minertias\u001b[0m\u001b[1;33m,\u001b[0m \u001b[1;34m'bx-'\u001b[0m\u001b[1;33m)\u001b[0m\u001b[1;33m\u001b[0m\u001b[1;33m\u001b[0m\u001b[0m\n\u001b[0m\u001b[0;32m      2\u001b[0m \u001b[0mplt\u001b[0m\u001b[1;33m.\u001b[0m\u001b[0mxlabel\u001b[0m\u001b[1;33m(\u001b[0m\u001b[1;34m'Values of K'\u001b[0m\u001b[1;33m)\u001b[0m\u001b[1;33m\u001b[0m\u001b[1;33m\u001b[0m\u001b[0m\n\u001b[0;32m      3\u001b[0m \u001b[0mplt\u001b[0m\u001b[1;33m.\u001b[0m\u001b[0mylabel\u001b[0m\u001b[1;33m(\u001b[0m\u001b[1;34m'Inertia'\u001b[0m\u001b[1;33m)\u001b[0m\u001b[1;33m\u001b[0m\u001b[1;33m\u001b[0m\u001b[0m\n\u001b[0;32m      4\u001b[0m \u001b[0mplt\u001b[0m\u001b[1;33m.\u001b[0m\u001b[0mtitle\u001b[0m\u001b[1;33m(\u001b[0m\u001b[1;34m'The Elbow Method using Inertia'\u001b[0m\u001b[1;33m)\u001b[0m\u001b[1;33m\u001b[0m\u001b[1;33m\u001b[0m\u001b[0m\n\u001b[0;32m      5\u001b[0m \u001b[0mplt\u001b[0m\u001b[1;33m.\u001b[0m\u001b[0mshow\u001b[0m\u001b[1;33m(\u001b[0m\u001b[1;33m)\u001b[0m\u001b[1;33m\u001b[0m\u001b[1;33m\u001b[0m\u001b[0m\n",
      "\u001b[1;31mNameError\u001b[0m: name 'n_shape' is not defined"
     ]
    }
   ],
   "source": [
    "plt.plot(n_shape, inertias, 'bx-')\n",
    "plt.xlabel('Values of K')\n",
    "plt.ylabel('Inertia')\n",
    "plt.title('The Elbow Method using Inertia')\n",
    "plt.show()"
   ]
  },
  {
   "cell_type": "markdown",
   "id": "26e7abf7",
   "metadata": {},
   "source": [
    "#### Clustering both X1 and X2:\n",
    "What effect does X1 and X2 on accuracy when clustering both X1 and X2 seperately. Does this improve our overall accuracy and standard deviation? The range for both X1 and X2 includes K value with the best accuracy from above. So X1 includes 14 and X2 includes 3"
   ]
  },
  {
   "cell_type": "code",
   "execution_count": 40,
   "id": "ef8206b9",
   "metadata": {
    "scrolled": false
   },
   "outputs": [
    {
     "name": "stdout",
     "output_type": "stream",
     "text": [
      "For X1 11 clusters and X2 2 clusters The average accuracy =  77.25833333333334 +- 0.14766704288891358\n",
      "For X1 11 clusters and X2 3 clusters The average accuracy =  77.30833333333335 +- 0.21826334756181293\n",
      "For X1 11 clusters and X2 4 clusters The average accuracy =  77.3 +- 0.231840462387391\n",
      "For X1 12 clusters and X2 2 clusters The average accuracy =  77.19999999999999 +- 0.15411035007422547\n",
      "For X1 12 clusters and X2 3 clusters The average accuracy =  77.20833333333333 +- 0.24944382578492966\n",
      "For X1 12 clusters and X2 4 clusters The average accuracy =  77.20833333333333 +- 0.265622957508485\n",
      "For X1 13 clusters and X2 2 clusters The average accuracy =  77.16666666666666 +- 0.14481789330818762\n",
      "For X1 13 clusters and X2 3 clusters The average accuracy =  77.18333333333334 +- 0.2094967514996085\n",
      "For X1 13 clusters and X2 4 clusters The average accuracy =  77.14999999999999 +- 0.21505813167606475\n",
      "For X1 14 clusters and X2 2 clusters The average accuracy =  77.25 +- 0.20716338157760086\n",
      "For X1 14 clusters and X2 3 clusters The average accuracy =  77.25 +- 0.27613402542968296\n",
      "For X1 14 clusters and X2 4 clusters The average accuracy =  77.26666666666667 +- 0.2771381524719328\n"
     ]
    }
   ],
   "source": [
    "from sklearn.cluster import KMeans\n",
    "from sklearn.model_selection import cross_val_score\n",
    "import numpy as np\n",
    "\n",
    "X1 = X_us[['stays_in_week_nights','stays_in_weekend_nights']]\n",
    "X2 = X_us[['is_repeated_guest','previous_bookings_not_canceled']]\n",
    "\n",
    "params = []\n",
    "# we want to include ranges that have our best results from above\n",
    "for n in range(11,15):\n",
    "    for n2 in range(2,5):\n",
    "\n",
    "    \n",
    "        cls4_knn = KMeans(n_clusters=n, init='k-means++',random_state=0)\n",
    "        cls4_knn.fit(X1)\n",
    "        newfeature = cls4_knn.labels_ # the labels from kmeans clustering\n",
    "\n",
    "        cls5_knn = KMeans(n_clusters=n2, init='k-means++',random_state=0)\n",
    "        cls5_knn.fit(X2)\n",
    "        newfeature2 = cls5_knn.labels_ # the labels from kmeans clustering\n",
    "        \n",
    "        original_X = X_us.drop(['is_repeated_guest','previous_bookings_not_canceled',\n",
    "                           'stays_in_week_nights','stays_in_weekend_nights'], axis=1)\n",
    "        final_X = np.column_stack((original_X,pd.get_dummies(newfeature),pd.get_dummies(newfeature2)))\n",
    "\n",
    "        acc = cross_val_score(clf,final_X,y=y_us,cv=cv)\n",
    "        params.append((n,n2,acc.mean()*100,acc.std()*100))\n",
    "\n",
    "        print (\"For X1\", n, \"clusters and X2\",n2, \"clusters\", \"The average accuracy = \", acc.mean()*100, \"+-\", acc.std()*100)\n",
    "        \n"
   ]
  },
  {
   "cell_type": "markdown",
   "id": "81e1d58a",
   "metadata": {},
   "source": [
    "#### For X1 and X2\n",
    "\n",
    "For X1 in the range of 11 to 14 and X2 from 2 to 4:\n",
    "- Our best accuracy (with lowest standard deviation) for X1 (**13 Clusters**) and X2 (**2 Clusters**) is 76.83333333333334 +- 0.7101447426796554.\n",
    "- Overall it did not improve our overall accuracy and standard deviation by grouping this way.\n",
    "\n"
   ]
  },
  {
   "cell_type": "markdown",
   "id": "fe04268d",
   "metadata": {},
   "source": [
    "### DBSCAN Clustering - X1"
   ]
  },
  {
   "cell_type": "code",
   "execution_count": 41,
   "id": "e140ab0f",
   "metadata": {
    "scrolled": true
   },
   "outputs": [
    {
     "ename": "NameError",
     "evalue": "name 'DBSCAN' is not defined",
     "output_type": "error",
     "traceback": [
      "\u001b[1;31m---------------------------------------------------------------------------\u001b[0m",
      "\u001b[1;31mNameError\u001b[0m                                 Traceback (most recent call last)",
      "\u001b[1;32m<ipython-input-41-06ac6c278154>\u001b[0m in \u001b[0;36m<module>\u001b[1;34m\u001b[0m\n\u001b[0;32m      6\u001b[0m \u001b[1;33m\u001b[0m\u001b[0m\n\u001b[0;32m      7\u001b[0m         \u001b[1;31m# append on the clustering\u001b[0m\u001b[1;33m\u001b[0m\u001b[1;33m\u001b[0m\u001b[1;33m\u001b[0m\u001b[0m\n\u001b[1;32m----> 8\u001b[1;33m         \u001b[0mcls1_dbscn\u001b[0m \u001b[1;33m=\u001b[0m \u001b[0mDBSCAN\u001b[0m\u001b[1;33m(\u001b[0m\u001b[0meps\u001b[0m\u001b[1;33m=\u001b[0m\u001b[0meps\u001b[0m\u001b[1;33m,\u001b[0m \u001b[0mmin_samples\u001b[0m\u001b[1;33m=\u001b[0m\u001b[0mmpts\u001b[0m\u001b[1;33m)\u001b[0m\u001b[1;33m\u001b[0m\u001b[1;33m\u001b[0m\u001b[0m\n\u001b[0m\u001b[0;32m      9\u001b[0m         \u001b[0mcls1_dbscn\u001b[0m\u001b[1;33m.\u001b[0m\u001b[0mfit\u001b[0m\u001b[1;33m(\u001b[0m\u001b[0mX1\u001b[0m\u001b[1;33m)\u001b[0m\u001b[1;33m\u001b[0m\u001b[1;33m\u001b[0m\u001b[0m\n\u001b[0;32m     10\u001b[0m         \u001b[0mnewfeature_1\u001b[0m \u001b[1;33m=\u001b[0m \u001b[0mcls1_dbscn\u001b[0m\u001b[1;33m.\u001b[0m\u001b[0mlabels_\u001b[0m \u001b[1;31m# the labels from kmeans clustering\u001b[0m\u001b[1;33m\u001b[0m\u001b[1;33m\u001b[0m\u001b[0m\n",
      "\u001b[1;31mNameError\u001b[0m: name 'DBSCAN' is not defined"
     ]
    }
   ],
   "source": [
    "#X1\n",
    "\n",
    "params = []\n",
    "for eps in [0.1, 0.125, 0.15]:\n",
    "    for mpts in range(5,10):\n",
    "\n",
    "        # append on the clustering\n",
    "        cls1_dbscn = DBSCAN(eps=eps, min_samples=mpts)\n",
    "        cls1_dbscn.fit(X1)\n",
    "        newfeature_1 = cls1_dbscn.labels_ # the labels from kmeans clustering\n",
    "\n",
    "        original_X = X_us.drop(['stays_in_week_nights','stays_in_weekend_nights'], axis=1)\n",
    "        final_X = np.column_stack((original_X,pd.get_dummies(newfeature_1)))\n",
    "\n",
    "        acc = cross_val_score(clf,final_X,y=y_us,cv=cv)\n",
    "        params.append((eps,mpts,acc.mean()*100,acc.std()*100))\n",
    "\n",
    "        print(\"For Eps\", eps, \"For min pts\",mpts,\"The average accuracy = \", acc.mean()*100, \"+-\", acc.std()*100)"
   ]
  },
  {
   "cell_type": "markdown",
   "id": "2df4ced7",
   "metadata": {},
   "source": [
    "### DBSCAN Clustering - X2"
   ]
  },
  {
   "cell_type": "code",
   "execution_count": null,
   "id": "52104e99",
   "metadata": {
    "scrolled": true
   },
   "outputs": [],
   "source": [
    "#X2\n",
    "params = []\n",
    "for eps in [0.1, 0.125, 0.15]:\n",
    "    for mpts in range(5,10):\n",
    "\n",
    "        # append on the clustering\n",
    "        cls2_dbscn = DBSCAN(eps=eps, min_samples=mpts)\n",
    "        cls2_dbscn.fit(X2)\n",
    "        newfeature_1 = cls2_dbscn.labels_ # the labels from kmeans clustering\n",
    "\n",
    "        original_X = X_us.drop(['is_repeated_guest','previous_bookings_not_canceled'], axis=1)\n",
    "        final_X = np.column_stack((original_X,pd.get_dummies(newfeature_1)))\n",
    "\n",
    "        acc = cross_val_score(clf,final_X,y=y_us,cv=cv)\n",
    "        params.append((eps,mpts,acc.mean()*100,acc.std()*100))\n",
    "\n",
    "        print(\"For Eps\", eps, \"For min pts\",mpts,\"The average accuracy = \", acc.mean()*100, \"+-\", acc.std()*100)"
   ]
  },
  {
   "cell_type": "markdown",
   "id": "a7fdc323",
   "metadata": {},
   "source": [
    "### DBSCAN Clustering - X3"
   ]
  },
  {
   "cell_type": "code",
   "execution_count": null,
   "id": "de588e77",
   "metadata": {
    "scrolled": false
   },
   "outputs": [],
   "source": [
    "%%time \n",
    "#X3\n",
    "X3 = X_us[['adr','stays_in_week_nights', 'adults', 'children','babies','stays_in_weekend_nights']]\n",
    "from sklearn.cluster import DBSCAN\n",
    "\n",
    "params = []\n",
    "for eps in [0.1, 0.125, 0.15]:\n",
    "    for mpts in range(5,10):\n",
    "\n",
    "        # append on the clustering\n",
    "        cls3_dbscn = DBSCAN(eps=eps, min_samples=mpts)\n",
    "        cls3_dbscn.fit(X3)\n",
    "        newfeature_1 = cls3_dbscn.labels_ # the labels from kmeans clustering\n",
    "\n",
    "        original_X = X_us.drop(['adr','stays_in_week_nights', 'adults', 'children','babies','stays_in_weekend_nights'], axis=1)\n",
    "        final_X = np.column_stack((original_X,pd.get_dummies(newfeature_1)))\n",
    "\n",
    "        acc = cross_val_score(clf,final_X,y=y_us,cv=cv)\n",
    "        params.append((eps,mpts,acc.mean()*100,acc.std()*100))\n",
    "        print(\"For Eps\", eps, \"For min pts\",mpts,\"The average accuracy = \", acc.mean()*100, \"+-\", acc.std()*100)\n",
    "        \n"
   ]
  },
  {
   "cell_type": "markdown",
   "id": "0ab10680",
   "metadata": {},
   "source": [
    "#### DBSCAN: X1\n",
    "For all points of epsilon,  MinPts of 5:\n",
    "- Our best accuracy (with lowest standard deviation) is 76.78333333333333 +- 0.6345383273600531."
   ]
  },
  {
   "cell_type": "markdown",
   "id": "4af561d9",
   "metadata": {},
   "source": [
    "#### DBSCAN: X2\n",
    "For all points of epsilon,  MinPts of 9:\n",
    "- Our best accuracy (with lowest standard deviation) is 76.69166666666668 +- 0.700099199320276."
   ]
  },
  {
   "cell_type": "markdown",
   "id": "fbadd05f",
   "metadata": {},
   "source": [
    "#### DBSCAN: X3\n",
    "For Epsilon=0.15, MinPts of 5:\n",
    "- Our best accuracy (with lowest standard deviation) is 76.7 +- 0.5682575707077409."
   ]
  },
  {
   "cell_type": "markdown",
   "id": "441ab41f",
   "metadata": {},
   "source": [
    "### Agglomerative Clustering - X1"
   ]
  },
  {
   "cell_type": "code",
   "execution_count": null,
   "id": "5d16e16b",
   "metadata": {
    "scrolled": true
   },
   "outputs": [],
   "source": [
    "%%time\n",
    "from sklearn.cluster import AgglomerativeClustering\n",
    "params = []\n",
    "for link in ['ward', 'complete', 'average']:\n",
    "    for n in range(4,5):\n",
    "\n",
    "        # append on the clustering\n",
    "        cls1_agg = AgglomerativeClustering(n_clusters=n, linkage=link)\n",
    "        cls1_agg.fit(X1)\n",
    "        newfeature_1 = cls1_agg.labels_ # the labels from kmeans clustering\n",
    "\n",
    "        original_X = X_us.drop(['stays_in_week_nights','stays_in_weekend_nights'], axis=1)\n",
    "        final_X = np.column_stack((original_X,pd.get_dummies(newfeature_1)))\n",
    "\n",
    "        acc = cross_val_score(clf,final_X,y=y_us,cv=cv)\n",
    "        params.append((link,n,acc.mean()*100,acc.std()*100))\n",
    "\n",
    "        print(\"For X1:\", \"C=\",n,\"Link:\",link,\"The Average accuracy = \", acc.mean()*100, \"+-\", acc.std()*100)"
   ]
  },
  {
   "cell_type": "markdown",
   "id": "292acb55",
   "metadata": {},
   "source": [
    "### Agglomerative Clustering - X2"
   ]
  },
  {
   "cell_type": "code",
   "execution_count": null,
   "id": "952f72b1",
   "metadata": {},
   "outputs": [],
   "source": [
    "%%time\n",
    "params = []\n",
    "for link in ['ward', 'complete', 'average']:\n",
    "    for n in range(4,5):\n",
    "\n",
    "        # append on the clustering\n",
    "        cls2_agg = AgglomerativeClustering(n_clusters=n, linkage=link)\n",
    "        cls2_agg.fit(X2)\n",
    "        newfeature_1 = cls2_agg.labels_ # the labels from kmeans clustering\n",
    "\n",
    "        original_X = X_us.drop(['is_repeated_guest','previous_bookings_not_canceled'], axis=1)\n",
    "        final_X = np.column_stack((original_X,pd.get_dummies(newfeature_1)))\n",
    "\n",
    "        acc = cross_val_score(clf,final_X,y=y_us,cv=cv)\n",
    "        params.append((link,n,acc.mean()*100,acc.std()*100))\n",
    "\n",
    "        print(\"For X2:\", \"C=\",n,\"Link:\",link,\"The Average accuracy = \", acc.mean()*100, \"+-\", acc.std()*100)"
   ]
  },
  {
   "cell_type": "markdown",
   "id": "cc1c517e",
   "metadata": {},
   "source": [
    "### Agglomerative Clustering - X3"
   ]
  },
  {
   "cell_type": "code",
   "execution_count": null,
   "id": "f50eb533",
   "metadata": {},
   "outputs": [],
   "source": [
    "%%time \n",
    "\n",
    "X3 = X_us[['adr','stays_in_week_nights', 'adults', 'children','babies','stays_in_weekend_nights']]\n",
    "\n",
    "params = []\n",
    "for link in ['ward', 'complete', 'average']:\n",
    "    for n in range(4,5):\n",
    "\n",
    "        # append on the clustering\n",
    "        cls3_agg = AgglomerativeClustering(n_clusters=n, linkage=link)\n",
    "        cls3_agg.fit(X3)\n",
    "        newfeature_1 = cls3_agg.labels_ # the labels from kmeans clustering\n",
    "\n",
    "        original_X = X_us.drop(['adr','stays_in_week_nights', 'adults', 'children','babies','stays_in_weekend_nights'], axis=1)\n",
    "        final_X = np.column_stack((original_X,pd.get_dummies(newfeature_1)))\n",
    "\n",
    "        acc = cross_val_score(clf,final_X,y=y_us,cv=cv)\n",
    "        params.append((link,n,acc.mean()*100,acc.std()*100))\n",
    "\n",
    "        print(\"For X3:\", \"C=\",n,\"Link:\",link,\"The Average accuracy = \", acc.mean()*100, \"+-\", acc.std()*100)"
   ]
  },
  {
   "cell_type": "markdown",
   "id": "a05b1335",
   "metadata": {},
   "source": [
    "#### Agglomerative Clustering: X1\n",
    "For C = 4,  Link = Complete: \n",
    "- Our best accuracy (with lowest standard deviation) is 76.72500000000001 +- 0.7558108228915484"
   ]
  },
  {
   "cell_type": "markdown",
   "id": "acd6183f",
   "metadata": {},
   "source": [
    "#### Agglomerative Clustering: X2\n",
    "For C = 4,  Link = Ward: \n",
    "- Our best accuracy (with lowest standard deviation) is 76.71666666666667 +- 0.7252394240678199"
   ]
  },
  {
   "cell_type": "markdown",
   "id": "54af1cde",
   "metadata": {},
   "source": [
    "#### Agglomerative Clustering: X3\n",
    "For C = 4,  Link = Ward: \n",
    "- Our best accuracy (with lowest standard deviation) is 76.50833333333334 +- 0.683841274630952"
   ]
  },
  {
   "cell_type": "markdown",
   "id": "ee896a7c",
   "metadata": {},
   "source": [
    "### Gaussian Mixture - X1"
   ]
  },
  {
   "cell_type": "code",
   "execution_count": null,
   "id": "723393d8",
   "metadata": {},
   "outputs": [],
   "source": [
    "%%time\n",
    "import itertools\n",
    "import numpy as np\n",
    "from scipy import linalg\n",
    "import matplotlib.pyplot as plt\n",
    "import matplotlib as mpl\n",
    "\n",
    "from sklearn import mixture\n",
    "#X1\n",
    "lowest_bic = np.infty\n",
    "bic = []\n",
    "n_components_range = range(4, 20)\n",
    "cv_types = ['spherical', 'diag', 'full']\n",
    "for cv_type in cv_types:\n",
    "    for n_components in n_components_range:\n",
    "        # Fit a mixture of Gaussians with EM\n",
    "        gmm = mixture.GaussianMixture(n_components=n_components, covariance_type=cv_type)\n",
    "        gmm.fit(X1)\n",
    "        bic.append(gmm.bic(X1))\n",
    "        if bic[-1] < lowest_bic:\n",
    "            lowest_bic = bic[-1]\n",
    "            best_gmm1 = gmm\n",
    "best_gmm1"
   ]
  },
  {
   "cell_type": "markdown",
   "id": "f4592bd7",
   "metadata": {},
   "source": [
    "### Gaussian Mixture - X2"
   ]
  },
  {
   "cell_type": "code",
   "execution_count": null,
   "id": "6b2a7fba",
   "metadata": {},
   "outputs": [],
   "source": [
    "%%time\n",
    "#X2\n",
    "lowest_bic = np.infty\n",
    "bic = []\n",
    "n_components_range = range(5,20)\n",
    "cv_types = ['spherical', 'diag', 'full']\n",
    "for cv_type in cv_types:\n",
    "    for n_components in n_components_range:\n",
    "        # Fit a mixture of Gaussians with EM\n",
    "        gmm = mixture.GaussianMixture(n_components=n_components, covariance_type=cv_type)\n",
    "        gmm.fit(X2)\n",
    "        bic.append(gmm.bic(X2))\n",
    "        if bic[-1] < lowest_bic:\n",
    "            lowest_bic = bic[-1]\n",
    "            best_gmm2 = gmm\n",
    "best_gmm2"
   ]
  },
  {
   "cell_type": "markdown",
   "id": "e0e2127d",
   "metadata": {},
   "source": [
    "### Gaussian Mixture - X3"
   ]
  },
  {
   "cell_type": "code",
   "execution_count": null,
   "id": "941cea18",
   "metadata": {
    "scrolled": true
   },
   "outputs": [],
   "source": [
    "%%time\n",
    "#X3\n",
    "lowest_bic = np.infty\n",
    "bic = []\n",
    "n_components_range = range(7, 17)\n",
    "cv_types = ['spherical', 'diag', 'full']\n",
    "for cv_type in cv_types:\n",
    "    for n_components in n_components_range:\n",
    "        # Fit a mixture of Gaussians with EM\n",
    "        gmm = mixture.GaussianMixture(n_components=n_components, covariance_type=cv_type)\n",
    "        gmm.fit(X3)\n",
    "        bic.append(gmm.bic(X3))\n",
    "        if bic[-1] < lowest_bic:\n",
    "            lowest_bic = bic[-1]\n",
    "            best_gmm3 = gmm\n",
    "best_gmm3"
   ]
  },
  {
   "cell_type": "markdown",
   "id": "7ebd4604",
   "metadata": {},
   "source": [
    "#### Gaussian Mixture: X1\n",
    "For n_components=19:\n",
    "- Our best accuracy (with lowest standard deviation) is 76.72500000000001 +- 0.7558108228915484\n",
    "\n",
    "#### Gaussian Mixture: X2\n",
    "For covariance_type='diag', n_components=16:\n",
    "- Our best accuracy (with lowest standard deviation) is 76.72500000000001 +- 0.7558108228915484\n",
    "\n",
    "#### Gaussian Mixture: X3\n",
    "For covariance_type='diag', n_components=15:\n",
    "- Our best accuracy (with lowest standard deviation) is 76.72500000000001 +- 0.7558108228915484\n"
   ]
  },
  {
   "cell_type": "markdown",
   "id": "cefef5f8",
   "metadata": {},
   "source": [
    "# Modeling and Evaluation 2\n",
    "\n",
    "Evaluate and Compare"
   ]
  },
  {
   "cell_type": "markdown",
   "id": "5613a3df",
   "metadata": {},
   "source": [
    "#### K-Means Clustering - Comparing X1, X2 and X3 Silhouette Scores"
   ]
  },
  {
   "cell_type": "code",
   "execution_count": null,
   "id": "11625ab2",
   "metadata": {},
   "outputs": [],
   "source": [
    "%%time\n",
    "\n",
    "from sklearn.metrics import silhouette_score\n",
    "\n",
    "label_kmeans = cls1_kmeans.fit_predict(X1)\n",
    "\n",
    "# Evaluating the performance\n",
    "X1_Sil_Scores_kmeans = silhouette_score(X1, label_kmeans)\n",
    "print(\"Silhoutte Scores of K-means Clustering X1:\", X1_Sil_Scores_kmeans)"
   ]
  },
  {
   "cell_type": "code",
   "execution_count": null,
   "id": "a2cf2e3a",
   "metadata": {},
   "outputs": [],
   "source": [
    "%%time\n",
    "\n",
    "label_kmeans = cls2_knn.fit_predict(X2)\n",
    "\n",
    "# Evaluating the performance\n",
    "X2_Sil_Scores_kmeans = silhouette_score(X2, label_kmeans)\n",
    "print(\"Silhoutte Scores of K-means Clustering X2:\", X2_Sil_Scores_kmeans)"
   ]
  },
  {
   "cell_type": "code",
   "execution_count": null,
   "id": "a1ac4dc1",
   "metadata": {},
   "outputs": [],
   "source": [
    "%%time\n",
    "\n",
    "label_kmeans = cls3_knn.fit_predict(X3)\n",
    "\n",
    "# Evaluating the performance\n",
    "X3_Sil_Scores_kmeans = silhouette_score(X3, label_kmeans)\n",
    "print(\"Silhoutte Scores of K-means Clustering X3:\", X3_Sil_Scores_kmeans)"
   ]
  },
  {
   "cell_type": "markdown",
   "id": "46d2140b",
   "metadata": {},
   "source": [
    "#### DBSCAN Clustering - Comparing X1, X2 and X3 Silhouette Scores"
   ]
  },
  {
   "cell_type": "code",
   "execution_count": null,
   "id": "d183f4b3",
   "metadata": {},
   "outputs": [],
   "source": [
    "%%time\n",
    "\n",
    "label_kmeans = cls1_dbscn.fit_predict(X1)\n",
    "\n",
    "# Evaluating the performance\n",
    "Sil_Scores_kmeans = silhouette_score(X1, label_kmeans)\n",
    "print(\"Silhoutte Scores of DBSCN Clustering X1:\", Sil_Scores_kmeans)"
   ]
  },
  {
   "cell_type": "code",
   "execution_count": null,
   "id": "50d900e3",
   "metadata": {},
   "outputs": [],
   "source": [
    "%%time\n",
    "\n",
    "label_kmeans = cls2_dbscn.fit_predict(X2)\n",
    "\n",
    "# Evaluating the performance\n",
    "Sil_Scores_kmeans = silhouette_score(X2, label_kmeans)\n",
    "print(\"Silhoutte Scores of DBSCN Clustering X2:\", Sil_Scores_kmeans)"
   ]
  },
  {
   "cell_type": "code",
   "execution_count": null,
   "id": "4271b864",
   "metadata": {},
   "outputs": [],
   "source": [
    "%%time\n",
    "\n",
    "label_kmeans = cls3_dbscn.fit_predict(X3)\n",
    "\n",
    "# Evaluating the performance\n",
    "Sil_Scores_kmeans = silhouette_score(X3, label_kmeans)\n",
    "print(\"Silhoutte Scores of DBSCN Clustering X3:\", Sil_Scores_kmeans)"
   ]
  },
  {
   "cell_type": "markdown",
   "id": "3150e3e7",
   "metadata": {},
   "source": [
    "#### Agglomerative Clustering - Comparing X1, X2 and X3 Silhouette Scores"
   ]
  },
  {
   "cell_type": "code",
   "execution_count": null,
   "id": "0fd99602",
   "metadata": {},
   "outputs": [],
   "source": [
    "%%time\n",
    "\n",
    "label_kmeans = cls1_agg.fit_predict(X1)\n",
    "\n",
    "# Evaluating the performance\n",
    "Sil_Scores_kmeans = silhouette_score(X1, label_kmeans)\n",
    "print(\"Silhoutte Scores of Agglomerative Clustering X1:\", Sil_Scores_kmeans)"
   ]
  },
  {
   "cell_type": "code",
   "execution_count": null,
   "id": "b6a9c35d",
   "metadata": {},
   "outputs": [],
   "source": [
    "%%time\n",
    "\n",
    "label_kmeans = cls2_agg.fit_predict(X2)\n",
    "\n",
    "# Evaluating the performance\n",
    "Sil_Scores_kmeans = silhouette_score(X2, label_kmeans)\n",
    "print(\"Silhoutte Scores of Agglomerative Clustering X1:\", Sil_Scores_kmeans)"
   ]
  },
  {
   "cell_type": "code",
   "execution_count": null,
   "id": "415f2ae9",
   "metadata": {},
   "outputs": [],
   "source": [
    "%%time\n",
    "\n",
    "label_kmeans = cls3_agg.fit_predict(X3)\n",
    "\n",
    "# Evaluating the performance\n",
    "Sil_Scores_kmeans = silhouette_score(X3, label_kmeans)\n",
    "print(\"Silhoutte Scores of Agglomerative Clustering X3:\", Sil_Scores_kmeans)"
   ]
  },
  {
   "cell_type": "markdown",
   "id": "6ab54e8e",
   "metadata": {},
   "source": [
    "#### Gaussian Mixture - Comparing X1, X2 and X3 Silhouette Scores"
   ]
  },
  {
   "cell_type": "code",
   "execution_count": null,
   "id": "85052857",
   "metadata": {},
   "outputs": [],
   "source": [
    "%%time\n",
    "\n",
    "label_kmeans = best_gmm1.fit_predict(X1)\n",
    "\n",
    "# Evaluating the performance\n",
    "Sil_Scores_kmeans = silhouette_score(X1, label_kmeans)\n",
    "print(\"Silhoutte Scores of GaussianMixture Clustering X1:\", Sil_Scores_kmeans)"
   ]
  },
  {
   "cell_type": "code",
   "execution_count": null,
   "id": "d6efdcba",
   "metadata": {},
   "outputs": [],
   "source": [
    "%%time\n",
    "\n",
    "label_kmeans = best_gmm2.fit_predict(X2)\n",
    "\n",
    "# Evaluating the performance\n",
    "Sil_Scores_kmeans = silhouette_score(X2, label_kmeans)\n",
    "print(\"Silhoutte Scores of GaussianMixture Clustering X2:\", Sil_Scores_kmeans)"
   ]
  },
  {
   "cell_type": "code",
   "execution_count": null,
   "id": "3d6c26ea",
   "metadata": {},
   "outputs": [],
   "source": [
    "%%time\n",
    "\n",
    "label_kmeans = best_gmm3.fit_predict(X3)\n",
    "\n",
    "# Evaluating the performance\n",
    "Sil_Scores_kmeans = silhouette_score(X3, label_kmeans)\n",
    "print(\"Silhoutte Scores of GaussianMixture Clustering X3:\", Sil_Scores_kmeans)"
   ]
  },
  {
   "cell_type": "markdown",
   "id": "333d654e",
   "metadata": {},
   "source": [
    "#### Model Comparison between X1, X2 and X3 Clusters: Accuracy and Silhouette Scores"
   ]
  },
  {
   "attachments": {
    "image.png": {
     "image/png": "[encoded data removed]"
    }
   },
   "cell_type": "markdown",
   "id": "92ed3bb9",
   "metadata": {},
   "source": [
    "![image.png](attachment:image.png)"
   ]
  },
  {
   "cell_type": "markdown",
   "id": "3e977907",
   "metadata": {},
   "source": [
    "# Modeling and Evaluation 3\n",
    "\n",
    "Visualize Results"
   ]
  },
  {
   "cell_type": "markdown",
   "id": "061b2c71",
   "metadata": {},
   "source": [
    "**In these three graphs we compared the clustering occuring in  X1, X2 and X3 using K-Means.**"
   ]
  },
  {
   "cell_type": "code",
   "execution_count": null,
   "id": "4a0a4278",
   "metadata": {},
   "outputs": [],
   "source": [
    "# Source: https://hdbscan.readthedocs.io/en/latest/comparing_clustering_algorithms.html\n",
    "import numpy as np\n",
    "import matplotlib.pyplot as plt\n",
    "import seaborn as sns\n",
    "import sklearn.cluster as cluster\n",
    "import time\n",
    "%matplotlib inline\n",
    "sns.set_context('poster')\n",
    "sns.set_color_codes()\n",
    "\n",
    "plot_kwds = {'alpha' : 0.25, 's' : 80, 'linewidths':0}\n",
    "def plot_clusters(data, algorithm, args, kwds):\n",
    "    start_time = time.time()\n",
    "    labels = algorithm(*args, **kwds).fit_predict(data)\n",
    "    end_time = time.time()\n",
    "    palette = sns.color_palette('deep', np.unique(labels).max() + 1)\n",
    "    colors = [palette[x] if x >= 0 else (0.0, 0.0, 0.0) for x in labels]\n",
    "    plt.scatter(data.T[0], data.T[1], c=colors, **plot_kwds)\n",
    "    frame = plt.gca()\n",
    "    frame.axes.get_xaxis().set_visible(False)\n",
    "    frame.axes.get_yaxis().set_visible(False)\n",
    "    plt.title('Clusters found by {}'.format(str(algorithm.__name__)), fontsize=24)\n",
    "    plt.text(-0.5, 0.7, 'Clustering took {:.2f} s'.format(end_time - start_time), fontsize=14)"
   ]
  },
  {
   "cell_type": "markdown",
   "id": "b558828a",
   "metadata": {},
   "source": [
    "**For X1, we have 14 Clusters. For X2, we have 3 clusters and for X3 we have 17 clusters.** We chose these because they yielded the highest accuracy with the lowest standard deviation."
   ]
  },
  {
   "cell_type": "code",
   "execution_count": null,
   "id": "e2e20dd5",
   "metadata": {},
   "outputs": [],
   "source": [
    "n = 14\n",
    "n2 = 3\n",
    "n3 = 17\n",
    "\n",
    "X1 = X_us[['stays_in_week_nights','stays_in_weekend_nights']]\n",
    "X2 = X_us[['is_repeated_guest','previous_bookings_not_canceled']]\n",
    "X3 = X_us[['adr','stays_in_week_nights', 'adults', 'children','babies','stays_in_weekend_nights']]\n",
    "\n",
    "cls = KMeans(n_clusters=n, init='k-means++',random_state=0)\n",
    "cls.fit(X1)\n",
    "newfeature = cls.labels_ # the labels from kmeans clustering\n",
    "\n",
    "# append on the second clustering\n",
    "cls2 = KMeans(n_clusters=n2, init='k-means++',random_state=0)\n",
    "cls2.fit(X2)\n",
    "newfeature2 = cls2.labels_ # the labels from kmeans clustering\n",
    "\n",
    "# append on the third clustering\n",
    "cls3 = KMeans(n_clusters=n3, init='k-means++',random_state=0)\n",
    "cls3.fit(X3)\n",
    "newfeature3 = cls3.labels_ # the labels from kmeans clustering\n"
   ]
  },
  {
   "cell_type": "markdown",
   "id": "95780b9f",
   "metadata": {},
   "source": [
    "### Looking at X1 K-Mean Clusters:\n",
    "For X1  we used 14 clusters  and compared `stays_in_week_nights` and `stays_in_weekend_nights` there is a bit of overlap but can see some seperation. K-Means may not be effective because it is including the outliers into a single cluster."
   ]
  },
  {
   "cell_type": "code",
   "execution_count": null,
   "id": "d6a1f610",
   "metadata": {
    "scrolled": false
   },
   "outputs": [],
   "source": [
    "plt.figure(figsize=(20,10))\n",
    "X1 = X_us[['stays_in_week_nights','stays_in_weekend_nights']]\n",
    "X1=X1.values\n",
    "plt.scatter(X1[:, 0], X1[:, 1]+np.random.random(X1[:, 0].shape)/2, c=newfeature, cmap=plt.cm.rainbow, s=20, linewidths=0)\n",
    "plt.xlabel('stays_in_weekend_nights'), plt.ylabel('stays_in_week_nights')\n",
    "plt.grid()"
   ]
  },
  {
   "cell_type": "markdown",
   "id": "a9891e1d",
   "metadata": {},
   "source": [
    "### Looking at X2 K-Mean Clusters:\n",
    "On X2 we are using 3 clusters and comparing `previous_bookings_not_canceled` and `is_repeated_guest`. There does seems to be better clustering. However, we could certainly choose more clusters because at high values of x and y, there is significant seperation between them."
   ]
  },
  {
   "cell_type": "code",
   "execution_count": null,
   "id": "972a6ca0",
   "metadata": {
    "scrolled": true
   },
   "outputs": [],
   "source": [
    "plt.figure(figsize=(10,10))\n",
    "X2 = X_us[['is_repeated_guest','previous_bookings_not_canceled']]\n",
    "X2=X2.values\n",
    "plt.scatter(X2[:, 1], X2[:, 0]+np.random.random(X2[:, 0].shape)/2, c=newfeature2, cmap=plt.cm.rainbow, s=20, linewidths=0)\n",
    "plt.xlabel('previous_bookings_not_canceled'), plt.ylabel('is_repeated_guest')\n",
    "plt.grid()"
   ]
  },
  {
   "cell_type": "markdown",
   "id": "f5174636",
   "metadata": {},
   "source": [
    "### Looking at X3 K-Mean Clusters:\n",
    "Finally here using X3 we are using 17 clusters and comparing `adr` with `children` and `babies`."
   ]
  },
  {
   "cell_type": "markdown",
   "id": "2b653957",
   "metadata": {},
   "source": [
    "#### Looking at Children and Babies vs Average Daily Rate for X3 \n",
    "X3 seems to have clustered better than the X2 and X1. K-means was able to cluster number of children and babies together."
   ]
  },
  {
   "cell_type": "code",
   "execution_count": null,
   "id": "e27604ec",
   "metadata": {},
   "outputs": [],
   "source": [
    "plt.figure(figsize=(20,10))\n",
    "plt.subplot(1,2,1)\n",
    "X3 = X_us[['adr','stays_in_week_nights', 'adults', 'children','babies','stays_in_weekend_nights']]\n",
    "X3=X3.values\n",
    "plt.scatter(X3[:, 0], X3[:, 3]+np.random.random(X3[:, 0].shape)/2, c=newfeature3, cmap=plt.cm.rainbow, s=20, linewidths=0)\n",
    "plt.xlabel('adr'), plt.ylabel('children')\n",
    "\n",
    "plt.subplot(1,2,2)\n",
    "plt.scatter(X3[:, 0], X3[:, 4]+np.random.random(X3[:, 0].shape)/2, c=newfeature3, cmap=plt.cm.rainbow, s=20, linewidths=0)\n",
    "plt.xlabel('adr'), plt.ylabel('babies')\n",
    "plt.grid()"
   ]
  },
  {
   "cell_type": "markdown",
   "id": "906c1cc1",
   "metadata": {},
   "source": [
    "#### KMeans Visuals"
   ]
  },
  {
   "cell_type": "code",
   "execution_count": null,
   "id": "a97cb8c7",
   "metadata": {},
   "outputs": [],
   "source": [
    "# kmeans = KMeans(init='random', # initialization\n",
    "#         n_clusters=14,  # number of clusters\n",
    "#         random_state=0,\n",
    "#         n_init=3)\n",
    "# kmeans.fit(X1)\n",
    "# # visualize the data\n",
    "# centroids = kmeans.cluster_centers_\n",
    "# plt.plot(X1[:, 1], X1[:, -1], 'r.', markersize=2) #plot the data\n",
    "# # plt.scatter(centroids[:, 0], centroids[:, 1],\n",
    "# #             marker='+', s=200, linewidths=3, color='k')  # plot the centroids\n",
    "# plt.scatter(X1[:,0], X1[:,1], s=500)\n",
    "# plt.show()"
   ]
  },
  {
   "cell_type": "code",
   "execution_count": null,
   "id": "80285850",
   "metadata": {},
   "outputs": [],
   "source": [
    "# kmeans = KMeans(init='random', # initialization\n",
    "#         n_clusters=1,  # number of clusters\n",
    "#         random_state=1,\n",
    "#         n_init=15,       # number of different times to run k-means\n",
    "#         n_jobs=-1)\n",
    "# kmeans.fit(X2)\n",
    "# # visualize the data\n",
    "# centroids = kmeans.cluster_centers_\n",
    "# plt.plot(X2[:, 1], X2[:, -1], 'r.', markersize=2) #plot the data\n",
    "# # plt.scatter(centroids[:, 0], centroids[:, 1],\n",
    "# #             marker='+', s=200, linewidths=3, color='k')  # plot the centroids\n",
    "# plt.scatter(X2[:,0], X2[:,1], s=500)\n",
    "# plt.show()"
   ]
  },
  {
   "cell_type": "code",
   "execution_count": null,
   "id": "d003abbf",
   "metadata": {},
   "outputs": [],
   "source": [
    "# from sklearn.cluster import KMeans\n",
    "\n",
    "# kmeans = KMeans(init='random', # initialization\n",
    "#         n_clusters=2,  # number of clusters\n",
    "#         random_state=1,\n",
    "#         n_init=15,       # number of different times to run k-means\n",
    "#         n_jobs=-1)\n",
    "# kmeans.fit(X3)\n",
    "# # visualize the data\n",
    "# centroids = kmeans.cluster_centers_\n",
    "# plt.plot(X3[:, 1], X3[:, -1], 'r.', markersize=2) #plot the data\n",
    "# # plt.scatter(centroids[:, 0], centroids[:, 1],\n",
    "# #             marker='+', s=200, linewidths=3, color='k')  # plot the centroids\n",
    "# plt.scatter(X3[:,0], X3[:,1], s=500)\n",
    "# plt.show()"
   ]
  },
  {
   "cell_type": "markdown",
   "id": "7b4923f7",
   "metadata": {},
   "source": [
    "### Plotting K-Distance for X1, X2 and X3\n",
    "\n",
    "In these three graphs we can see the best value of epsilon.  According to documentation, epsilon is the distance threshold within which we've consider centers to have converged."
   ]
  },
  {
   "cell_type": "markdown",
   "id": "afe738ad",
   "metadata": {},
   "source": [
    "#### K-Distance - X1"
   ]
  },
  {
   "cell_type": "code",
   "execution_count": null,
   "id": "6b80e872",
   "metadata": {},
   "outputs": [],
   "source": [
    "# Plotting K-distance Graph\n",
    "distances = np.sort(X1, axis=0)\n",
    "distances = distances[:,1]\n",
    "plt.figure(figsize=(5,5))\n",
    "plt.plot(distances)\n",
    "plt.title('K-distance Graph',fontsize=20)\n",
    "plt.xlabel('Data Points sorted by distance',fontsize=14)\n",
    "plt.ylabel('Epsilon',fontsize=14)\n",
    "plt.show()"
   ]
  },
  {
   "cell_type": "markdown",
   "id": "2d3d7457",
   "metadata": {},
   "source": [
    "#### K-Distance - X2"
   ]
  },
  {
   "cell_type": "code",
   "execution_count": null,
   "id": "13a7478d",
   "metadata": {},
   "outputs": [],
   "source": [
    "# Plotting K-distance Graph\n",
    "distances = np.sort(X2, axis=0)\n",
    "distances = distances[:,1]\n",
    "plt.figure(figsize=(5,5))\n",
    "plt.plot(distances)\n",
    "plt.title('K-distance Graph',fontsize=20)\n",
    "plt.xlabel('Data Points sorted by distance',fontsize=14)\n",
    "plt.ylabel('Epsilon',fontsize=14)\n",
    "plt.show()"
   ]
  },
  {
   "cell_type": "markdown",
   "id": "88bf507e",
   "metadata": {},
   "source": [
    "#### K-Distance - X3"
   ]
  },
  {
   "cell_type": "code",
   "execution_count": null,
   "id": "d998aba8",
   "metadata": {
    "scrolled": false
   },
   "outputs": [],
   "source": [
    "# Plotting K-distance Graph\n",
    "distances = np.sort(X3, axis=0)\n",
    "distances = distances[:,1]\n",
    "plt.figure(figsize=(5,5))\n",
    "plt.plot(distances)\n",
    "plt.title('K-distance Graph',fontsize=20)\n",
    "plt.xlabel('Data Points sorted by distance',fontsize=14)\n",
    "plt.ylabel('Epsilon',fontsize=14)\n",
    "plt.show()"
   ]
  },
  {
   "cell_type": "markdown",
   "id": "7783b2f9",
   "metadata": {},
   "source": [
    "### DBSCAN Cluster Plot for X1, X2 and X3"
   ]
  },
  {
   "cell_type": "code",
   "execution_count": null,
   "id": "aacb95c9",
   "metadata": {
    "scrolled": false
   },
   "outputs": [],
   "source": [
    "plot_clusters(X1, cluster.DBSCAN, (), {'eps':0.025})"
   ]
  },
  {
   "cell_type": "code",
   "execution_count": null,
   "id": "5d068569",
   "metadata": {
    "scrolled": true
   },
   "outputs": [],
   "source": [
    "plot_clusters(X2, cluster.DBSCAN, (), {'eps':0.025})"
   ]
  },
  {
   "cell_type": "code",
   "execution_count": null,
   "id": "597ce2dc",
   "metadata": {},
   "outputs": [],
   "source": [
    "#plot_clusters(X3, cluster.DBSCAN, (), {'eps':0.125})"
   ]
  },
  {
   "cell_type": "markdown",
   "id": "7740e865",
   "metadata": {},
   "source": [
    "### Agglomerative Clustering for X3"
   ]
  },
  {
   "cell_type": "code",
   "execution_count": null,
   "id": "1a616eae",
   "metadata": {
    "scrolled": true
   },
   "outputs": [],
   "source": [
    "import numpy as np\n",
    "import matplotlib.pyplot as plt\n",
    "import pandas as pd\n",
    "import scipy.cluster.hierarchy as sch\n",
    "\n",
    "dendrogram = sch.dendrogram(sch.linkage(X3, method  = \"ward\"))\n",
    "plt.title('Dendrogram')\n",
    "plt.figure(figsize=(10, 10)) \n",
    "plt.show()"
   ]
  },
  {
   "cell_type": "markdown",
   "id": "d7971675",
   "metadata": {},
   "source": [
    "The dendrogram shows the different clusters on X3.  We see the bottoms up approach that that was used when clustering in this hierarchical method."
   ]
  },
  {
   "cell_type": "markdown",
   "id": "d6b5bba3",
   "metadata": {},
   "source": [
    "#### Agglomerative Clustering Plots \n",
    "Plotting on the clustering for X1, X2, and X3  these seem to  be similar to the ones from  K-Means. Which might help suspect that both  clustering  model will produce similar results for this dataset. "
   ]
  },
  {
   "cell_type": "code",
   "execution_count": null,
   "id": "6d9f4a7f",
   "metadata": {
    "scrolled": false
   },
   "outputs": [],
   "source": [
    "plot_clusters(X1, cluster.AgglomerativeClustering, (), {'n_clusters':4, 'linkage':'ward'})"
   ]
  },
  {
   "cell_type": "code",
   "execution_count": null,
   "id": "770945bf",
   "metadata": {},
   "outputs": [],
   "source": [
    "plot_clusters(X2, cluster.AgglomerativeClustering, (), {'n_clusters':4, 'linkage':'complete'})"
   ]
  },
  {
   "cell_type": "code",
   "execution_count": null,
   "id": "43d47dae",
   "metadata": {},
   "outputs": [],
   "source": [
    "plot_clusters(X3, cluster.AgglomerativeClustering, (), {'n_clusters':4, 'linkage':'ward'})"
   ]
  },
  {
   "cell_type": "markdown",
   "id": "57643766",
   "metadata": {},
   "source": [
    "#### Gaussian Models"
   ]
  },
  {
   "cell_type": "code",
   "execution_count": null,
   "id": "d3530f9b",
   "metadata": {},
   "outputs": [],
   "source": [
    "# Plot \n",
    "import matplotlib as mpl\n",
    "color_iter = itertools.cycle(['k', 'r', 'b', 'g', 'c', 'm', 'y'])\n",
    "plt.figure(figsize=(8,4))\n",
    "splot = plt.subplot(1,1,1)\n",
    "gmm = mixture.GaussianMixture(covariance_type='diag', n_components=17)\n",
    "gmm.fit(X1)\n",
    "Y_ = gmm.predict(X1)\n",
    "for i, (mean, covar, color) in enumerate(zip(gmm.means_, gmm.covariances_,\n",
    "                                             color_iter)):\n",
    "    if len(covar.shape)<2:\n",
    "        tmp = np.zeros((2,2))\n",
    "        np.fill_diagonal(tmp,covar)\n",
    "        covar = tmp\n",
    "    elif covar.shape[0] != covar.shape[1]:\n",
    "        covar = np.diag(covar)\n",
    "        \n",
    "    v, w = linalg.eigh(covar)\n",
    "    if not np.any(Y_ == i):\n",
    "        continue\n",
    "    plt.scatter(X1[Y_ == i, 0], X1[Y_ == i, 1], .8, color=color)\n",
    "\n",
    "    # Plot an ellipse to show the Gaussian component\n",
    "    angle = np.arctan2(w[0][1], w[0][0])\n",
    "    angle = 180 * angle / np.pi  # convert to degrees\n",
    "    v *= 4\n",
    "    ell = mpl.patches.Ellipse(mean, v[0], v[1], 180 + angle, color=color)\n",
    "    ell.set_clip_box(splot.bbox)\n",
    "    ell.set_alpha(.5)\n",
    "    splot.add_artist(ell)\n",
    "\n",
    "\n",
    "plt.title('Selected GMM')\n",
    "plt.show()"
   ]
  },
  {
   "cell_type": "code",
   "execution_count": null,
   "id": "06845560",
   "metadata": {},
   "outputs": [],
   "source": [
    "import matplotlib as mpl\n",
    "color_iter = itertools.cycle(['k', 'r', 'b', 'g', 'c', 'm', 'y'])\n",
    "plt.figure(figsize=(8,4))\n",
    "splot = plt.subplot(1,1,1)\n",
    "gmm = mixture.GaussianMixture(covariance_type='diag', n_components=16)\n",
    "gmm.fit(X3)\n",
    "Y_ = gmm.predict(X3)\n",
    "for i, (mean, covar, color) in enumerate(zip(gmm.means_, gmm.covariances_,\n",
    "                                             color_iter)):\n",
    "    if len(covar.shape)<2:\n",
    "        tmp = np.zeros((2,2))\n",
    "        np.fill_diagonal(tmp,covar)\n",
    "        covar = tmp\n",
    "    elif covar.shape[0] != covar.shape[1]:\n",
    "        covar = np.diag(covar)\n",
    "        \n",
    "    v, w = linalg.eigh(covar)\n",
    "    if not np.any(Y_ == i):\n",
    "        continue\n",
    "    plt.scatter(X3[Y_ == i, 0], X3[Y_ == i, 1], .8, color=color)\n",
    "\n",
    "    # Plot an ellipse to show the Gaussian component\n",
    "    angle = np.arctan2(w[0][1], w[0][0])\n",
    "    angle = 180 * angle / np.pi  # convert to degrees\n",
    "    v *= 4\n",
    "    ell = mpl.patches.Ellipse(mean, v[0], v[1], 180 + angle, color=color)\n",
    "    ell.set_clip_box(splot.bbox)\n",
    "    ell.set_alpha(.5)\n",
    "    splot.add_artist(ell)\n",
    "\n",
    "\n",
    "plt.title('Selected GMM')\n",
    "plt.show()"
   ]
  },
  {
   "cell_type": "markdown",
   "id": "743b09be",
   "metadata": {},
   "source": [
    "# Modeling and Evaluation 4\n",
    "\n",
    "Summarize the ramifications. "
   ]
  },
  {
   "cell_type": "markdown",
   "id": "2d41d134",
   "metadata": {},
   "source": [
    "### Cluster Algorithms: Advantages and Disadvantages\n",
    "\n",
    "For our analysis, the average accuracy and standard deviation was used to determine the best model.\n",
    "\n",
    "#### **K-Means**\n",
    "\n",
    "Kmeans is used to simplify large datasets into simple datasets. It creates partitional clusters that are center based and well separated. Kmeans uses the distance between points.\n",
    "\n",
    "Advantages:\n",
    "- It is simple to use and can identify unknown group of data from large datasets.\n",
    "- It adapts to changes easily.\n",
    "- It produces higher clusters and its suitable for large datasets.\n",
    "- The results from kmeans are easy to interpret.\n",
    "\n",
    "Disadvantages:\n",
    "- Kmeans clustering lacks consistency. It gives different results on different algorithm runs.\n",
    "- It is sensitive to scale.\n",
    "- The number of clusters (k) needs to be specified prior for the kmeans clustering to be effective. It can also be difficult to predict the k values.\n",
    "\n",
    "#### **DBSCAN**\n",
    "\n",
    "DBSCAN clustering is used to estimate the number of data points that are within clusters.\n",
    "\n",
    "Advantages:\n",
    "- DBSCAN works well with outliers and anomalies. It can be used to identify the noise.\n",
    "- The number of clustering does not need to be specified.\n",
    "- It is effective for working with arbitrary shapes.\n",
    "\n",
    "Disadvantages:\n",
    "- It does not work well with clusters having different densities.\n",
    "- It is hard to determine the distance of epsilons due to the distance between data points.\n",
    "- DBSCAN clustering relies on Eps-minPts parameters.\n",
    "\n",
    "#### **Agglomerative clustering**\n",
    "\n",
    "Agglomerative clustering merges pairs of clusters sample data. It uses linkage distance.\n",
    "\n",
    "Advantages:\n",
    "\n",
    "- It is easy to implement.\n",
    "- It returns a hierarchy output which is informative. The dendrogram makes it easier to decide on the number of outputs.\n",
    "\n",
    "Disadvantages:\n",
    "\n",
    "- It is difficult to predict the k-value (number of clusters).\n",
    "- It is sensitive to scale.\n",
    "\n",
    "#### **Gaussian Mixture**\n",
    "\n",
    "Gaussian mixture provides probabilities of each data point that belongs to the clusters. It is regarded as a model composed of K single Gaussian models. The GaussianMixture object implements the expectation-maximization (EM) algorithm for fitting mixture-of-Gaussian models.\n",
    "\n",
    "Advantages:\n",
    "\n",
    "- It is more flexible compared to other models.\n",
    "- It is the fastest algorithm for learning mixture models.\n",
    "\n",
    "Disadvantages:\n",
    "\n",
    "- Estimating the covariance can be difficult when there are insufficiently many points per mixture.\n",
    "- It uses all the components it has access to which requires more data and information."
   ]
  },
  {
   "cell_type": "markdown",
   "id": "045ce0f7",
   "metadata": {},
   "source": [
    "# Deployment\n",
    "\n",
    "Be critical of your performance and tell the reader how you current model might be usable by other parties. Did you achieve your goals? If not, can you reign in the utility of your modeling? How useful is your model for interested parties (i.e., the companies or organizations that might want to use it)? How would your deploy your model for interested parties? What other data should be collected? How often would the model need to be updated, etc.?\n"
   ]
  },
  {
   "cell_type": "markdown",
   "id": "4c25df60",
   "metadata": {},
   "source": [
    "# Exceptional Work\n",
    "\n",
    "You have free reign to provide additional analyses or combine analyses."
   ]
  },
  {
   "cell_type": "markdown",
   "id": "aca87e1d",
   "metadata": {},
   "source": [
    "Clustering using pairwise distances. Undersample to 1000 instances per class to get pairwise distances."
   ]
  },
  {
   "cell_type": "code",
   "execution_count": null,
   "id": "4e53150a",
   "metadata": {},
   "outputs": [],
   "source": [
    "from imblearn.under_sampling import RandomUnderSampler\n",
    "\n",
    "# Undersample the dataset using the RandomUnderSampler \n",
    "# Set all class sizes equal to the smallest class.\n",
    "us = RandomUnderSampler(sampling_strategy={0:5000,1:5000})\n",
    "X_pair, y_pair = us.fit_resample(X, y)"
   ]
  },
  {
   "cell_type": "code",
   "execution_count": null,
   "id": "3b52ee00",
   "metadata": {},
   "outputs": [],
   "source": [
    "#One hot encode specific columns without standardizing and scaling continuous variables\n",
    "from sklearn.preprocessing import OneHotEncoder\n",
    "categorical_features = [\"hotel\", 'meal','market_segment','distribution_channel',\n",
    "                        'reserved_room_type', 'assigned_room_type', 'deposit_type','customer_type']\n",
    "\n",
    "ohe = OneHotEncoder(drop=\"first\")\n",
    "\n",
    "hotel_object = X_pair.select_dtypes('object')\n",
    "ohe.fit(hotel_object)\n",
    "\n",
    "codes = ohe.transform(hotel_object).toarray()\n",
    "feature_names = ohe.get_feature_names(categorical_features)\n",
    "\n",
    "X_pair = pd.concat([X_pair.select_dtypes(exclude='object'), \n",
    "               pd.DataFrame(codes,columns=feature_names).astype(int)], axis=1)"
   ]
  },
  {
   "cell_type": "code",
   "execution_count": null,
   "id": "5742b594",
   "metadata": {},
   "outputs": [],
   "source": [
    "from sklearn.preprocessing import OneHotEncoder, StandardScaler\n",
    "continuous_variables = ['lead_time',\"arrival_date_month\",'arrival_date_year','arrival_date_week_number','arrival_date_day_of_month',\n",
    "                        'stays_in_weekend_nights','stays_in_week_nights','adults','children','babies',\n",
    "                        'is_repeated_guest','previous_cancellations','previous_bookings_not_canceled',\n",
    "                        'booking_changes','agent','days_in_waiting_list','adr','required_car_parking_spaces',\n",
    "                        'total_of_special_requests']\n",
    "stdsclr = StandardScaler()\n",
    "\n",
    "X_pair[continuous_variables] = stdsclr.fit_transform(X_pair[continuous_variables])"
   ]
  },
  {
   "cell_type": "code",
   "execution_count": null,
   "id": "5cc80c1a",
   "metadata": {},
   "outputs": [],
   "source": [
    "EvaluateClassifierEstimator(clf, X_pair, y_pair, cv)"
   ]
  },
  {
   "cell_type": "code",
   "execution_count": null,
   "id": "250ac376",
   "metadata": {},
   "outputs": [],
   "source": [
    "y_pair.shape"
   ]
  },
  {
   "cell_type": "markdown",
   "id": "7617c85b",
   "metadata": {},
   "source": [
    "Create pairwise distances for these variables"
   ]
  },
  {
   "cell_type": "code",
   "execution_count": null,
   "id": "604efff1",
   "metadata": {},
   "outputs": [],
   "source": [
    "from sklearn.metrics.pairwise import pairwise_distances\n",
    "\n",
    "X_choose = X_pair[['adr','stays_in_week_nights', 'adults', 'children','babies','stays_in_weekend_nights']]\n",
    "d = pairwise_distances(X_choose, metric='euclidean')\n",
    "cls = KMeans(n_clusters=11, init='k-means++',random_state=1)\n",
    "cls.fit(d)\n",
    "newfeature = cls.labels_\n",
    "X_change = X_pair.drop(['adr','stays_in_week_nights', 'adults', 'children','babies','stays_in_weekend_nights'], axis=1)\n",
    "X_new = np.column_stack((X_change,pd.get_dummies(newfeature)))\n",
    "acc = cross_val_score(clf,X_new,y=y_pair,cv=cv)\n",
    "print (\"Average accuracy\", acc.mean()*100, \"+-\", acc.std()*100)"
   ]
  },
  {
   "cell_type": "code",
   "execution_count": null,
   "id": "99c00047",
   "metadata": {},
   "outputs": [],
   "source": [
    "EvaluateClassifierEstimator(clf, X_new, y_pair, cv)"
   ]
  },
  {
   "cell_type": "code",
   "execution_count": null,
   "id": "970243be",
   "metadata": {},
   "outputs": [],
   "source": []
  },
  {
   "cell_type": "code",
   "execution_count": null,
   "id": "17de042f",
   "metadata": {},
   "outputs": [],
   "source": []
  }
 ],
 "metadata": {
  "kernelspec": {
   "display_name": "Python 3",
   "language": "python",
   "name": "python3"
  },
  "language_info": {
   "codemirror_mode": {
    "name": "ipython",
    "version": 3
   },
   "file_extension": ".py",
   "mimetype": "text/x-python",
   "name": "python",
   "nbconvert_exporter": "python",
   "pygments_lexer": "ipython3",
   "version": "3.8.8"
  }
 },
 "nbformat": 4,
 "nbformat_minor": 5
}
